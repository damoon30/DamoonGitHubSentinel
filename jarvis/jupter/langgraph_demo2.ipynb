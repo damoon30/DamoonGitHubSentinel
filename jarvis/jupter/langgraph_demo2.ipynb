{
 "cells": [
  {
   "cell_type": "code",
   "execution_count": 13,
   "id": "initial_id",
   "metadata": {
    "collapsed": true,
    "ExecuteTime": {
     "end_time": "2024-08-26T01:48:10.102339Z",
     "start_time": "2024-08-26T01:48:10.087048Z"
    }
   },
   "outputs": [
    {
     "name": "stdout",
     "output_type": "stream",
     "text": [
      "[ConfigurableFieldSpec(id='r', annotation=<class 'float'>, name=None, description=None, default=None, is_shared=False, dependencies=None)]\n",
      "A-----[0.5]\n",
      "B-----[0.5, 0.75]\n",
      "C-----[0.5, 0.75]\n",
      "D-----[0.5, 0.75, 12.8125, 215.0625]\n",
      "{'x': [0.5, 0.75, 12.8125, 215.0625, -130058.19921875]}\n"
     ]
    }
   ],
   "source": [
    "from langchain_core.runnables import RunnableConfig, ConfigurableFieldSpec\n",
    "from typing_extensions import Annotated, TypedDict\n",
    "from langgraph.checkpoint.memory import MemorySaver\n",
    "from langgraph.graph import StateGraph\n",
    "\n",
    "\n",
    "def reducer(a: list, b: int | None) -> list:\n",
    "    if b is not None:\n",
    "         return a + [b]\n",
    "    return a\n",
    "\n",
    "class State(TypedDict):\n",
    "     x: Annotated[list, reducer]\n",
    "\n",
    "class ConfigSchema(TypedDict):\n",
    "     r: float\n",
    "\n",
    "graph = StateGraph(State, config_schema=ConfigSchema)\n",
    "\n",
    "def node(state: State, config: RunnableConfig) -> dict:\n",
    "    print(f\"A-----{state[\"x\"]}\")\n",
    "    r = config[\"configurable\"].get(\"r\", 1.0)\n",
    "    x = state[\"x\"][-1]\n",
    "    next_value = x * r * (1 - x)\n",
    "    return {\"x\": next_value}\n",
    "\n",
    "\n",
    "def node_1(state: State, config: RunnableConfig) -> dict:\n",
    "    print(f\"B-----{state[\"x\"]}\")\n",
    "    r = config[\"configurable\"].get(\"r\", 1.0)\n",
    "    x = state[\"x\"][-1]\n",
    "    next_value = x * r * (2 - x)\n",
    "    return {\"x\": 10+next_value}\n",
    "\n",
    "def node_2(state: State, config: RunnableConfig) -> dict:\n",
    "    print(f\"C-----{state[\"x\"]}\")\n",
    "    r = config[\"configurable\"].get(\"r\", 1.0)\n",
    "    x = state[\"x\"][-1]\n",
    "    next_value = x * r * (3 - x)\n",
    "    return {\"x\": 210+next_value}\n",
    "\n",
    "def node_3(state: State, config: RunnableConfig) -> dict:\n",
    "    print(f\"D-----{state[\"x\"]}\")\n",
    "    r = config[\"configurable\"].get(\"r\", 1.0)\n",
    "    x = state[\"x\"][-1]\n",
    "    next_value = x * r * (13 - x)\n",
    "    return {\"x\": 310+next_value}\n",
    "\n",
    "graph.add_node(\"A\", node)\n",
    "graph.add_node(\"B\", node_1)\n",
    "graph.add_node(\"C\", node_2)\n",
    "graph.add_node(\"D\", node_3)\n",
    "graph.set_entry_point(\"A\")\n",
    "graph.add_edge(\"A\", \"B\")\n",
    "graph.add_edge(\"A\", \"C\")\n",
    "graph.add_edge(\"B\", \"D\")\n",
    "graph.add_edge(\"C\", \"D\")\n",
    "graph.set_finish_point(\"D\")\n",
    "compiled = graph.compile()\n",
    "\n",
    "print(compiled.config_specs)\n",
    "#[ConfigurableFieldSpec(id='r', annotation=<class 'float'>, name=None, description=None, default=None, is_shared=False, dependencies=None)]\n",
    "\n",
    "step1 = compiled.invoke({\"x\": 0.5}, {\"configurable\": {\"r\": 3.0}})\n",
    "print(step1)\n",
    "#{'x': [0.5, 0.75]}"
   ]
  },
  {
   "cell_type": "code",
   "outputs": [
    {
     "data": {
      "image/jpeg": "[encoded data removed]",
      "text/plain": "<IPython.core.display.Image object>"
     },
     "execution_count": 12,
     "metadata": {},
     "output_type": "execute_result"
    }
   ],
   "source": [
    "from IPython.display import Image\n",
    "\n",
    "Image(compiled.get_graph().draw_mermaid_png())"
   ],
   "metadata": {
    "collapsed": false,
    "ExecuteTime": {
     "end_time": "2024-08-26T01:46:58.717180Z",
     "start_time": "2024-08-26T01:46:58.538938Z"
    }
   },
   "id": "560d753aec0f06a",
   "execution_count": 12
  },
  {
   "cell_type": "code",
   "outputs": [],
   "source": [],
   "metadata": {
    "collapsed": false
   },
   "id": "f683b0e3a9a02a4d"
  }
 ],
 "metadata": {
  "kernelspec": {
   "display_name": "Python 3",
   "language": "python",
   "name": "python3"
  },
  "language_info": {
   "codemirror_mode": {
    "name": "ipython",
    "version": 2
   },
   "file_extension": ".py",
   "mimetype": "text/x-python",
   "name": "python",
   "nbconvert_exporter": "python",
   "pygments_lexer": "ipython2",
   "version": "2.7.6"
  }
 },
 "nbformat": 4,
 "nbformat_minor": 5
}
