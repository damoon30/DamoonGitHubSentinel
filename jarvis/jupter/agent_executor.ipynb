{
 "cells": [
  {
   "cell_type": "code",
   "execution_count": 1,
   "id": "initial_id",
   "metadata": {
    "collapsed": true,
    "ExecuteTime": {
     "end_time": "2024-08-25T09:52:57.382930Z",
     "start_time": "2024-08-25T09:52:55.322491Z"
    }
   },
   "outputs": [
    {
     "name": "stdout",
     "output_type": "stream",
     "text": [
      "Requirement already satisfied: langchain in /Users/fangwen/classProject/DamoonGitHubSentinel/.venv/lib/python3.12/site-packages (0.2.14)\r\n",
      "Requirement already satisfied: PyYAML>=5.3 in /Users/fangwen/classProject/DamoonGitHubSentinel/.venv/lib/python3.12/site-packages (from langchain) (6.0.2)\r\n",
      "Requirement already satisfied: SQLAlchemy<3,>=1.4 in /Users/fangwen/classProject/DamoonGitHubSentinel/.venv/lib/python3.12/site-packages (from langchain) (2.0.32)\r\n",
      "Requirement already satisfied: aiohttp<4.0.0,>=3.8.3 in /Users/fangwen/classProject/DamoonGitHubSentinel/.venv/lib/python3.12/site-packages (from langchain) (3.10.4)\r\n",
      "Requirement already satisfied: langchain-core<0.3.0,>=0.2.32 in /Users/fangwen/classProject/DamoonGitHubSentinel/.venv/lib/python3.12/site-packages (from langchain) (0.2.33)\r\n",
      "Requirement already satisfied: langchain-text-splitters<0.3.0,>=0.2.0 in /Users/fangwen/classProject/DamoonGitHubSentinel/.venv/lib/python3.12/site-packages (from langchain) (0.2.2)\r\n",
      "Requirement already satisfied: langsmith<0.2.0,>=0.1.17 in /Users/fangwen/classProject/DamoonGitHubSentinel/.venv/lib/python3.12/site-packages (from langchain) (0.1.104)\r\n",
      "Requirement already satisfied: numpy<2.0.0,>=1.26.0 in /Users/fangwen/classProject/DamoonGitHubSentinel/.venv/lib/python3.12/site-packages (from langchain) (1.26.4)\r\n",
      "Requirement already satisfied: pydantic<3,>=1 in /Users/fangwen/classProject/DamoonGitHubSentinel/.venv/lib/python3.12/site-packages (from langchain) (2.8.2)\r\n",
      "Requirement already satisfied: requests<3,>=2 in /Users/fangwen/classProject/DamoonGitHubSentinel/.venv/lib/python3.12/site-packages (from langchain) (2.32.3)\r\n",
      "Requirement already satisfied: tenacity!=8.4.0,<9.0.0,>=8.1.0 in /Users/fangwen/classProject/DamoonGitHubSentinel/.venv/lib/python3.12/site-packages (from langchain) (8.5.0)\r\n",
      "Requirement already satisfied: aiohappyeyeballs>=2.3.0 in /Users/fangwen/classProject/DamoonGitHubSentinel/.venv/lib/python3.12/site-packages (from aiohttp<4.0.0,>=3.8.3->langchain) (2.3.7)\r\n",
      "Requirement already satisfied: aiosignal>=1.1.2 in /Users/fangwen/classProject/DamoonGitHubSentinel/.venv/lib/python3.12/site-packages (from aiohttp<4.0.0,>=3.8.3->langchain) (1.3.1)\r\n",
      "Requirement already satisfied: attrs>=17.3.0 in /Users/fangwen/classProject/DamoonGitHubSentinel/.venv/lib/python3.12/site-packages (from aiohttp<4.0.0,>=3.8.3->langchain) (24.2.0)\r\n",
      "Requirement already satisfied: frozenlist>=1.1.1 in /Users/fangwen/classProject/DamoonGitHubSentinel/.venv/lib/python3.12/site-packages (from aiohttp<4.0.0,>=3.8.3->langchain) (1.4.1)\r\n",
      "Requirement already satisfied: multidict<7.0,>=4.5 in /Users/fangwen/classProject/DamoonGitHubSentinel/.venv/lib/python3.12/site-packages (from aiohttp<4.0.0,>=3.8.3->langchain) (6.0.5)\r\n",
      "Requirement already satisfied: yarl<2.0,>=1.0 in /Users/fangwen/classProject/DamoonGitHubSentinel/.venv/lib/python3.12/site-packages (from aiohttp<4.0.0,>=3.8.3->langchain) (1.9.4)\r\n",
      "Requirement already satisfied: jsonpatch<2.0,>=1.33 in /Users/fangwen/classProject/DamoonGitHubSentinel/.venv/lib/python3.12/site-packages (from langchain-core<0.3.0,>=0.2.32->langchain) (1.33)\r\n",
      "Requirement already satisfied: packaging<25,>=23.2 in /Users/fangwen/classProject/DamoonGitHubSentinel/.venv/lib/python3.12/site-packages (from langchain-core<0.3.0,>=0.2.32->langchain) (24.1)\r\n",
      "Requirement already satisfied: typing-extensions>=4.7 in /Users/fangwen/classProject/DamoonGitHubSentinel/.venv/lib/python3.12/site-packages (from langchain-core<0.3.0,>=0.2.32->langchain) (4.12.2)\r\n",
      "Requirement already satisfied: httpx<1,>=0.23.0 in /Users/fangwen/classProject/DamoonGitHubSentinel/.venv/lib/python3.12/site-packages (from langsmith<0.2.0,>=0.1.17->langchain) (0.27.0)\r\n",
      "Requirement already satisfied: orjson<4.0.0,>=3.9.14 in /Users/fangwen/classProject/DamoonGitHubSentinel/.venv/lib/python3.12/site-packages (from langsmith<0.2.0,>=0.1.17->langchain) (3.10.7)\r\n",
      "Requirement already satisfied: annotated-types>=0.4.0 in /Users/fangwen/classProject/DamoonGitHubSentinel/.venv/lib/python3.12/site-packages (from pydantic<3,>=1->langchain) (0.7.0)\r\n",
      "Requirement already satisfied: pydantic-core==2.20.1 in /Users/fangwen/classProject/DamoonGitHubSentinel/.venv/lib/python3.12/site-packages (from pydantic<3,>=1->langchain) (2.20.1)\r\n",
      "Requirement already satisfied: charset-normalizer<4,>=2 in /Users/fangwen/classProject/DamoonGitHubSentinel/.venv/lib/python3.12/site-packages (from requests<3,>=2->langchain) (3.3.2)\r\n",
      "Requirement already satisfied: idna<4,>=2.5 in /Users/fangwen/classProject/DamoonGitHubSentinel/.venv/lib/python3.12/site-packages (from requests<3,>=2->langchain) (3.7)\r\n",
      "Requirement already satisfied: urllib3<3,>=1.21.1 in /Users/fangwen/classProject/DamoonGitHubSentinel/.venv/lib/python3.12/site-packages (from requests<3,>=2->langchain) (2.2.2)\r\n",
      "Requirement already satisfied: certifi>=2017.4.17 in /Users/fangwen/classProject/DamoonGitHubSentinel/.venv/lib/python3.12/site-packages (from requests<3,>=2->langchain) (2024.7.4)\r\n",
      "Requirement already satisfied: anyio in /Users/fangwen/classProject/DamoonGitHubSentinel/.venv/lib/python3.12/site-packages (from httpx<1,>=0.23.0->langsmith<0.2.0,>=0.1.17->langchain) (4.4.0)\r\n",
      "Requirement already satisfied: httpcore==1.* in /Users/fangwen/classProject/DamoonGitHubSentinel/.venv/lib/python3.12/site-packages (from httpx<1,>=0.23.0->langsmith<0.2.0,>=0.1.17->langchain) (1.0.5)\r\n",
      "Requirement already satisfied: sniffio in /Users/fangwen/classProject/DamoonGitHubSentinel/.venv/lib/python3.12/site-packages (from httpx<1,>=0.23.0->langsmith<0.2.0,>=0.1.17->langchain) (1.3.1)\r\n",
      "Requirement already satisfied: h11<0.15,>=0.13 in /Users/fangwen/classProject/DamoonGitHubSentinel/.venv/lib/python3.12/site-packages (from httpcore==1.*->httpx<1,>=0.23.0->langsmith<0.2.0,>=0.1.17->langchain) (0.14.0)\r\n",
      "Requirement already satisfied: jsonpointer>=1.9 in /Users/fangwen/classProject/DamoonGitHubSentinel/.venv/lib/python3.12/site-packages (from jsonpatch<2.0,>=1.33->langchain-core<0.3.0,>=0.2.32->langchain) (3.0.0)\r\n",
      "\r\n",
      "\u001B[1m[\u001B[0m\u001B[34;49mnotice\u001B[0m\u001B[1;39;49m]\u001B[0m\u001B[39;49m A new release of pip is available: \u001B[0m\u001B[31;49m24.0\u001B[0m\u001B[39;49m -> \u001B[0m\u001B[32;49m24.2\u001B[0m\r\n",
      "\u001B[1m[\u001B[0m\u001B[34;49mnotice\u001B[0m\u001B[1;39;49m]\u001B[0m\u001B[39;49m To update, run: \u001B[0m\u001B[32;49mpip install --upgrade pip\u001B[0m\r\n"
     ]
    }
   ],
   "source": [
    "import os\n",
    "!pip install langchain"
   ]
  },
  {
   "cell_type": "code",
   "outputs": [
    {
     "data": {
      "text/plain": "[{'url': 'https://www.weatherapi.com/',\n  'content': \"{'location': {'name': 'San Francisco', 'region': 'California', 'country': 'United States of America', 'lat': 37.78, 'lon': -122.42, 'tz_id': 'America/Los_Angeles', 'localtime_epoch': 1724579701, 'localtime': '2024-08-25 02:55'}, 'current': {'last_updated_epoch': 1724579100, 'last_updated': '2024-08-25 02:45', 'temp_c': 16.1, 'temp_f': 61.0, 'is_day': 0, 'condition': {'text': 'Clear', 'icon': '//cdn.weatherapi.com/weather/64x64/night/113.png', 'code': 1000}, 'wind_mph': 2.2, 'wind_kph': 3.6, 'wind_degree': 10, 'wind_dir': 'N', 'pressure_mb': 1019.0, 'pressure_in': 30.09, 'precip_mm': 0.0, 'precip_in': 0.0, 'humidity': 90, 'cloud': 0, 'feelslike_c': 16.1, 'feelslike_f': 61.0, 'windchill_c': 15.0, 'windchill_f': 59.0, 'heatindex_c': 14.5, 'heatindex_f': 58.1, 'dewpoint_c': 12.2, 'dewpoint_f': 54.0, 'vis_km': 16.0, 'vis_miles': 9.0, 'uv': 1.0, 'gust_mph': 5.5, 'gust_kph': 8.8}}\"},\n {'url': 'https://www.weathertab.com/en/c/e/08/united-states/california/san-francisco/',\n  'content': 'Avg Low Temps 50 to 60 °F. Explore comprehensive August 2024 weather forecasts for San Francisco, including daily high and low temperatures, precipitation risks, and monthly temperature trends. Featuring detailed day-by-day forecasts, dynamic graphs of daily rain probabilities, and temperature trends to help you plan ahead.'}]"
     },
     "execution_count": 8,
     "metadata": {},
     "output_type": "execute_result"
    }
   ],
   "source": [
    "from langchain_community.tools.tavily_search import TavilySearchResults\n",
    "import os\n",
    "os.environ['TAVILY_API_KEY']=\"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\"\n",
    "\n",
    "search = TavilySearchResults(max_results=2, TAVILY_API_KEY=os.environ['TAVILY_API_KEY'])\n",
    "search.invoke(\"what is the weather in SF\")"
   ],
   "metadata": {
    "collapsed": false,
    "ExecuteTime": {
     "end_time": "2024-08-25T09:56:51.720837Z",
     "start_time": "2024-08-25T09:56:46.667704Z"
    }
   },
   "id": "e6a3392631c1653d",
   "execution_count": 8
  },
  {
   "cell_type": "code",
   "outputs": [
    {
     "name": "stdout",
     "output_type": "stream",
     "text": [
      "Collecting faiss-cpu\r\n",
      "  Downloading faiss_cpu-1.8.0.post1-cp312-cp312-macosx_11_0_arm64.whl.metadata (3.7 kB)\r\n",
      "Requirement already satisfied: numpy<2.0,>=1.0 in /Users/fangwen/classProject/DamoonGitHubSentinel/.venv/lib/python3.12/site-packages (from faiss-cpu) (1.26.4)\r\n",
      "Requirement already satisfied: packaging in /Users/fangwen/classProject/DamoonGitHubSentinel/.venv/lib/python3.12/site-packages (from faiss-cpu) (24.1)\r\n",
      "Downloading faiss_cpu-1.8.0.post1-cp312-cp312-macosx_11_0_arm64.whl (6.0 MB)\r\n",
      "\u001B[2K   \u001B[90m━━━━━━━━━━━━━━━━━━━━━━━━━━━━━━━━━━━━━━━━\u001B[0m \u001B[32m6.0/6.0 MB\u001B[0m \u001B[31m11.6 MB/s\u001B[0m eta \u001B[36m0:00:00\u001B[0m00:01\u001B[0m00:01\u001B[0mm\r\n",
      "\u001B[?25hInstalling collected packages: faiss-cpu\r\n",
      "Successfully installed faiss-cpu-1.8.0.post1\r\n",
      "\r\n",
      "\u001B[1m[\u001B[0m\u001B[34;49mnotice\u001B[0m\u001B[1;39;49m]\u001B[0m\u001B[39;49m A new release of pip is available: \u001B[0m\u001B[31;49m24.0\u001B[0m\u001B[39;49m -> \u001B[0m\u001B[32;49m24.2\u001B[0m\r\n",
      "\u001B[1m[\u001B[0m\u001B[34;49mnotice\u001B[0m\u001B[1;39;49m]\u001B[0m\u001B[39;49m To update, run: \u001B[0m\u001B[32;49mpip install --upgrade pip\u001B[0m\r\n"
     ]
    }
   ],
   "source": [
    "!pip install faiss-cpu"
   ],
   "metadata": {
    "collapsed": false,
    "ExecuteTime": {
     "end_time": "2024-08-25T09:59:44.260631Z",
     "start_time": "2024-08-25T09:59:40.518256Z"
    }
   },
   "id": "947b296645075292",
   "execution_count": 11
  },
  {
   "cell_type": "code",
   "outputs": [
    {
     "data": {
      "text/plain": "Document(metadata={'source': 'https://docs.smith.langchain.com/overview', 'title': 'Get started with LangSmith | 🦜️🛠️ LangSmith', 'description': 'LangSmith is a platform for building production-grade LLM applications. It allows you to closely monitor and evaluate your application, so you can ship quickly and with confidence. Use of LangChain is not necessary - LangSmith works on its own!', 'language': 'en'}, page_content='description=\"A sample dataset in LangSmith.\")client.create_examples(    inputs=[        {\"postfix\": \"to LangSmith\"},        {\"postfix\": \"to Evaluations in LangSmith\"},    ],    outputs=[        {\"output\": \"Welcome to LangSmith\"},        {\"output\": \"Welcome to Evaluations in LangSmith\"},    ],    dataset_id=dataset.id,)# Define your evaluatordef exact_match(run, example):    return {\"score\": run.outputs[\"output\"] == example.outputs[\"output\"]}experiment_results = evaluate(    lambda input: \"Welcome \" + input[\\'postfix\\'], # Your AI system goes here    data=dataset_name, # The data to predict and grade over    evaluators=[exact_match], # The evaluators to score the results    experiment_prefix=\"sample-experiment\", # The name of the experiment    metadata={      \"version\": \"1.0.0\",      \"revision_id\": \"beta\"    },)import { Client, Run, Example } from \"langsmith\";import { evaluate } from \"langsmith/evaluation\";import { EvaluationResult } from \"langsmith/evaluation\";const client = new')"
     },
     "execution_count": 12,
     "metadata": {},
     "output_type": "execute_result"
    }
   ],
   "source": [
    "from langchain_community.document_loaders import WebBaseLoader\n",
    "from langchain_community.vectorstores import FAISS\n",
    "from langchain_openai import OpenAIEmbeddings\n",
    "from langchain_text_splitters import RecursiveCharacterTextSplitter\n",
    "os.environ[\"USER_AGENT\"] = \"Mozilla/5.0 (Windows NT 10.0; Win64; x64) AppleWebKit/537.36 (KHTML, like Gecko) Chrome/58.0.3029.110 Safari/537.3\"\n",
    "\n",
    "loader = WebBaseLoader(\"https://docs.smith.langchain.com/overview\")\n",
    "docs = loader.load()\n",
    "documents = RecursiveCharacterTextSplitter(\n",
    "    chunk_size=1000, chunk_overlap=200\n",
    ").split_documents(docs)\n",
    "vector = FAISS.from_documents(documents, OpenAIEmbeddings())\n",
    "retriever = vector.as_retriever()\n",
    "retriever.invoke(\"how to upload a dataset\")[0]"
   ],
   "metadata": {
    "collapsed": false,
    "ExecuteTime": {
     "end_time": "2024-08-25T09:59:56.370552Z",
     "start_time": "2024-08-25T09:59:48.725922Z"
    }
   },
   "id": "680447b1faefb41e",
   "execution_count": 12
  },
  {
   "cell_type": "code",
   "outputs": [],
   "source": [
    "from langchain.tools.retriever import create_retriever_tool\n",
    "retriever_tool = create_retriever_tool(\n",
    "    retriever,\n",
    "    \"langsmith_search\",\n",
    "    \"Search for information about LangSmith. For any questions about LangSmith, you must use this tool!\",\n",
    ")"
   ],
   "metadata": {
    "collapsed": false,
    "ExecuteTime": {
     "end_time": "2024-08-25T10:01:16.677855Z",
     "start_time": "2024-08-25T10:01:16.671644Z"
    }
   },
   "id": "33a666f770e61750",
   "execution_count": 13
  },
  {
   "cell_type": "code",
   "outputs": [
    {
     "data": {
      "text/plain": "'Hello! How can I assist you today?'"
     },
     "execution_count": 14,
     "metadata": {},
     "output_type": "execute_result"
    }
   ],
   "source": [
    "\n",
    "from langchain_core.messages import HumanMessage,AIMessage\n",
    "from langchain_openai import ChatOpenAI\n",
    "tools = [search, retriever_tool]\n",
    "import os\n",
    "model = ChatOpenAI(model=\"gpt-4\")\n",
    "response = model.invoke([HumanMessage(content=\"hi!\")])\n",
    "response.content"
   ],
   "metadata": {
    "collapsed": false,
    "ExecuteTime": {
     "end_time": "2024-08-25T10:02:19.917531Z",
     "start_time": "2024-08-25T10:02:17.430731Z"
    }
   },
   "id": "30fa7270bacd6a50",
   "execution_count": 14
  },
  {
   "cell_type": "code",
   "outputs": [
    {
     "name": "stdout",
     "output_type": "stream",
     "text": [
      "ContentString: Hello! How can I assist you today?\n",
      "ToolCalls: []\n"
     ]
    }
   ],
   "source": [
    "model_with_tools = model.bind_tools(tools)\n",
    "response = model_with_tools.invoke([HumanMessage(content=\"Hi!\")])\n",
    "\n",
    "print(f\"ContentString: {response.content}\")\n",
    "print(f\"ToolCalls: {response.tool_calls}\")"
   ],
   "metadata": {
    "collapsed": false,
    "ExecuteTime": {
     "end_time": "2024-08-25T10:02:44.579366Z",
     "start_time": "2024-08-25T10:02:43.190468Z"
    }
   },
   "id": "986d41a4c8093a5a",
   "execution_count": 15
  },
  {
   "cell_type": "code",
   "outputs": [
    {
     "name": "stdout",
     "output_type": "stream",
     "text": [
      "ContentString: \n",
      "ToolCalls: [{'name': 'tavily_search_results_json', 'args': {'query': 'current weather in San Francisco'}, 'id': 'call_yIgX5eGHmGhkIVO4qQXKMfTy', 'type': 'tool_call'}]\n"
     ]
    }
   ],
   "source": [
    "response = model_with_tools.invoke([HumanMessage(content=\"What's the weather in SF?\")])\n",
    "\n",
    "print(f\"ContentString: {response.content}\")\n",
    "print(f\"ToolCalls: {response.tool_calls}\")"
   ],
   "metadata": {
    "collapsed": false,
    "ExecuteTime": {
     "end_time": "2024-08-25T10:03:03.798612Z",
     "start_time": "2024-08-25T10:03:02.056Z"
    }
   },
   "id": "458c1beb9b0ef164",
   "execution_count": 16
  },
  {
   "cell_type": "code",
   "outputs": [
    {
     "name": "stderr",
     "output_type": "stream",
     "text": [
      "/Users/fangwen/classProject/DamoonGitHubSentinel/.venv/lib/python3.12/site-packages/langchain_core/_api/beta_decorator.py:87: LangChainBetaWarning: The function `loads` is in beta. It is actively being worked on, so the API may change.\n",
      "  warn_beta(\n"
     ]
    },
    {
     "data": {
      "text/plain": "[SystemMessagePromptTemplate(prompt=PromptTemplate(input_variables=[], template='You are a helpful assistant')),\n MessagesPlaceholder(variable_name='chat_history', optional=True),\n HumanMessagePromptTemplate(prompt=PromptTemplate(input_variables=['input'], template='{input}')),\n MessagesPlaceholder(variable_name='agent_scratchpad')]"
     },
     "execution_count": 18,
     "metadata": {},
     "output_type": "execute_result"
    }
   ],
   "source": [
    "from langchain import hub\n",
    "os.environ['LANGCHAIN_API_KEY']=\"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\"\n",
    "\n",
    "# Get the prompt to use - you can modify this!\n",
    "prompt = hub.pull(\"hwchase17/openai-functions-agent\")\n",
    "prompt.messages"
   ],
   "metadata": {
    "collapsed": false,
    "ExecuteTime": {
     "end_time": "2024-08-25T10:04:13.871471Z",
     "start_time": "2024-08-25T10:04:12.139449Z"
    }
   },
   "id": "b622c8647089fd05",
   "execution_count": 18
  },
  {
   "cell_type": "code",
   "outputs": [
    {
     "data": {
      "text/plain": "{'input': 'hi!', 'output': 'Hello! How can I assist you today?'}"
     },
     "execution_count": 19,
     "metadata": {},
     "output_type": "execute_result"
    }
   ],
   "source": [
    "from langchain.agents import create_tool_calling_agent\n",
    "from langchain.agents import AgentExecutor\n",
    "\n",
    "agent = create_tool_calling_agent(model, tools, prompt)\n",
    "\n",
    "agent_executor = AgentExecutor(agent=agent, tools=tools)\n",
    "\n",
    "agent_executor.invoke({\"input\": \"hi!\"})"
   ],
   "metadata": {
    "collapsed": false,
    "ExecuteTime": {
     "end_time": "2024-08-25T10:06:03.777174Z",
     "start_time": "2024-08-25T10:06:02.303105Z"
    }
   },
   "id": "20f88ac7ce03a48f",
   "execution_count": 19
  },
  {
   "cell_type": "code",
   "outputs": [
    {
     "data": {
      "text/plain": "{'input': 'how can langsmith help with testing?',\n 'output': 'LangSmith is a platform designed to assist in the development of production-grade LLM applications. It provides the ability to closely monitor and evaluate your application, which aids in shipping quickly and confidently. Here are some ways it can assist with testing:\\n\\n1. **Tracing**: LangSmith offers trace logging. If your application is built entirely on LangChain (either Python or JavaScript), you do not need to use the LangSmith SDK directly.\\n\\n2. **Evaluation**: LangSmith provides functionalities for running evaluations on your application. This can help in assessing the performance and reliability of your application before deployment.\\n\\nTo start using LangSmith, you will need to:\\n\\n- Install LangSmith. This can be done via pip for Python or yarn for TypeScript.\\n- Create an API key on the Settings page.\\n- Set up your environment variables.\\n- Begin logging traces and running evaluations on your application.\\n\\nRemember, LangSmith can operate independently, and use of LangChain is not necessary.'}"
     },
     "execution_count": 20,
     "metadata": {},
     "output_type": "execute_result"
    }
   ],
   "source": [
    "agent_executor.invoke({\"input\": \"how can langsmith help with testing?\"})"
   ],
   "metadata": {
    "collapsed": false,
    "ExecuteTime": {
     "end_time": "2024-08-25T10:06:23.184383Z",
     "start_time": "2024-08-25T10:06:11.527294Z"
    }
   },
   "id": "47a32f0c3b4d4c85",
   "execution_count": 20
  },
  {
   "cell_type": "code",
   "outputs": [
    {
     "data": {
      "text/plain": "{'input': 'whats the weather in sf?',\n 'output': 'The current weather in San Francisco, California is clear with a temperature of 16.1°C (61°F). The wind is coming from the North at a speed of 3.6 kph (2.2 mph). The humidity is at 90%.'}"
     },
     "execution_count": 21,
     "metadata": {},
     "output_type": "execute_result"
    }
   ],
   "source": [
    "agent_executor.invoke({\"input\": \"whats the weather in sf?\"})"
   ],
   "metadata": {
    "collapsed": false,
    "ExecuteTime": {
     "end_time": "2024-08-25T10:06:58.383617Z",
     "start_time": "2024-08-25T10:06:50.669428Z"
    }
   },
   "id": "ac973b3f4207b2eb",
   "execution_count": 21
  },
  {
   "cell_type": "code",
   "outputs": [
    {
     "data": {
      "text/plain": "{'input': 'hi! my name is bob',\n 'chat_history': [],\n 'output': 'Hello Bob! How can I assist you today?'}"
     },
     "execution_count": 22,
     "metadata": {},
     "output_type": "execute_result"
    }
   ],
   "source": [
    "# Here we pass in an empty list of messages for chat_history because it is the first message in the chat\n",
    "agent_executor.invoke({\"input\": \"hi! my name is bob\", \"chat_history\": []})"
   ],
   "metadata": {
    "collapsed": false,
    "ExecuteTime": {
     "end_time": "2024-08-25T10:07:43.177290Z",
     "start_time": "2024-08-25T10:07:40.240018Z"
    }
   },
   "id": "ddc141e58cdc4185",
   "execution_count": 22
  },
  {
   "cell_type": "code",
   "outputs": [
    {
     "data": {
      "text/plain": "{'chat_history': [HumanMessage(content='hi! my name is bob'),\n  AIMessage(content='Hello Bob! How can I assist you today?')],\n 'input': \"what's my name?\",\n 'output': 'Your name is Bob. How can I assist you further?'}"
     },
     "execution_count": 24,
     "metadata": {},
     "output_type": "execute_result"
    }
   ],
   "source": [
    "from langchain_core.messages import AIMessage\n",
    "agent_executor.invoke(\n",
    "    {\n",
    "        \"chat_history\": [\n",
    "            HumanMessage(content=\"hi! my name is bob\"),\n",
    "            AIMessage(content=\"Hello Bob! How can I assist you today?\"),\n",
    "        ],\n",
    "        \"input\": \"what's my name?\",\n",
    "    }\n",
    ")"
   ],
   "metadata": {
    "collapsed": false,
    "ExecuteTime": {
     "end_time": "2024-08-25T10:08:56.868222Z",
     "start_time": "2024-08-25T10:08:55.051548Z"
    }
   },
   "id": "1c97eb96d85ab58b",
   "execution_count": 24
  },
  {
   "cell_type": "code",
   "outputs": [],
   "source": [
    "from langchain_community.chat_message_histories import ChatMessageHistory\n",
    "from langchain_core.chat_history import BaseChatMessageHistory\n",
    "from langchain_core.runnables.history import RunnableWithMessageHistory\n",
    "\n",
    "store = {}\n",
    "\n",
    "\n",
    "def get_session_history(session_id: str) -> BaseChatMessageHistory:\n",
    "    if session_id not in store:\n",
    "        store[session_id] = ChatMessageHistory()\n",
    "    return store[session_id]"
   ],
   "metadata": {
    "collapsed": false,
    "ExecuteTime": {
     "end_time": "2024-08-25T10:09:59.086752Z",
     "start_time": "2024-08-25T10:09:59.082064Z"
    }
   },
   "id": "abab21dcbb60be2e",
   "execution_count": 25
  },
  {
   "cell_type": "code",
   "outputs": [],
   "source": [
    "agent_with_chat_history = RunnableWithMessageHistory(\n",
    "    agent_executor,\n",
    "    get_session_history,\n",
    "    input_messages_key=\"input\",\n",
    "    history_messages_key=\"chat_history\",\n",
    ")"
   ],
   "metadata": {
    "collapsed": false,
    "ExecuteTime": {
     "end_time": "2024-08-25T10:10:16.129400Z",
     "start_time": "2024-08-25T10:10:16.124884Z"
    }
   },
   "id": "7d7f3135330358b9",
   "execution_count": 26
  },
  {
   "cell_type": "code",
   "outputs": [
    {
     "data": {
      "text/plain": "{'input': \"hi! I'm bob\",\n 'chat_history': [],\n 'output': 'Hello Bob! How can I assist you today?'}"
     },
     "execution_count": 27,
     "metadata": {},
     "output_type": "execute_result"
    }
   ],
   "source": [
    "agent_with_chat_history.invoke(\n",
    "    {\"input\": \"hi! I'm bob\"},\n",
    "    config={\"configurable\": {\"session_id\": \"<foo>\"}},\n",
    ")"
   ],
   "metadata": {
    "collapsed": false,
    "ExecuteTime": {
     "end_time": "2024-08-25T10:10:41.336801Z",
     "start_time": "2024-08-25T10:10:39.715777Z"
    }
   },
   "id": "fcfdae39b059605a",
   "execution_count": 27
  },
  {
   "cell_type": "code",
   "outputs": [
    {
     "data": {
      "text/plain": "{'input': \"what's my name?\",\n 'chat_history': [HumanMessage(content=\"hi! I'm bob\"),\n  AIMessage(content='Hello Bob! How can I assist you today?')],\n 'output': 'Your name is Bob. How can I assist you further?'}"
     },
     "execution_count": 28,
     "metadata": {},
     "output_type": "execute_result"
    }
   ],
   "source": [
    "agent_with_chat_history.invoke(\n",
    "    {\"input\": \"what's my name?\"},\n",
    "    config={\"configurable\": {\"session_id\": \"<foo>\"}},\n",
    ")"
   ],
   "metadata": {
    "collapsed": false,
    "ExecuteTime": {
     "end_time": "2024-08-25T10:11:41.974865Z",
     "start_time": "2024-08-25T10:11:40.644627Z"
    }
   },
   "id": "251291436d93d7ea",
   "execution_count": 28
  },
  {
   "cell_type": "code",
   "outputs": [],
   "source": [],
   "metadata": {
    "collapsed": false
   },
   "id": "cb86a0ad69161be8"
  }
 ],
 "metadata": {
  "kernelspec": {
   "display_name": "Python 3",
   "language": "python",
   "name": "python3"
  },
  "language_info": {
   "codemirror_mode": {
    "name": "ipython",
    "version": 2
   },
   "file_extension": ".py",
   "mimetype": "text/x-python",
   "name": "python",
   "nbconvert_exporter": "python",
   "pygments_lexer": "ipython2",
   "version": "2.7.6"
  }
 },
 "nbformat": 4,
 "nbformat_minor": 5
}
