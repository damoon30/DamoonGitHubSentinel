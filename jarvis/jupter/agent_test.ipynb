{
 "cells": [
  {
   "cell_type": "code",
   "execution_count": 1,
   "id": "initial_id",
   "metadata": {
    "collapsed": true,
    "ExecuteTime": {
     "end_time": "2024-08-24T17:48:40.485447Z",
     "start_time": "2024-08-24T17:48:36.935634Z"
    }
   },
   "outputs": [
    {
     "name": "stdout",
     "output_type": "stream",
     "text": [
      "Requirement already satisfied: langchain-community in /Users/fangwen/classProject/DamoonGitHubSentinel/.venv/lib/python3.12/site-packages (0.2.12)\r\n",
      "Requirement already satisfied: langgraph in /Users/fangwen/classProject/DamoonGitHubSentinel/.venv/lib/python3.12/site-packages (0.2.14)\r\n",
      "Requirement already satisfied: langchain-anthropic in /Users/fangwen/classProject/DamoonGitHubSentinel/.venv/lib/python3.12/site-packages (0.1.23)\r\n",
      "Collecting tavily-python\r\n",
      "  Downloading tavily_python-0.4.0-py3-none-any.whl.metadata (11 kB)\r\n",
      "Collecting langgraph-checkpoint-sqlite\r\n",
      "  Downloading langgraph_checkpoint_sqlite-1.0.0-py3-none-any.whl.metadata (3.1 kB)\r\n",
      "Requirement already satisfied: PyYAML>=5.3 in /Users/fangwen/classProject/DamoonGitHubSentinel/.venv/lib/python3.12/site-packages (from langchain-community) (6.0.2)\r\n",
      "Requirement already satisfied: SQLAlchemy<3,>=1.4 in /Users/fangwen/classProject/DamoonGitHubSentinel/.venv/lib/python3.12/site-packages (from langchain-community) (2.0.32)\r\n",
      "Requirement already satisfied: aiohttp<4.0.0,>=3.8.3 in /Users/fangwen/classProject/DamoonGitHubSentinel/.venv/lib/python3.12/site-packages (from langchain-community) (3.10.4)\r\n",
      "Requirement already satisfied: dataclasses-json<0.7,>=0.5.7 in /Users/fangwen/classProject/DamoonGitHubSentinel/.venv/lib/python3.12/site-packages (from langchain-community) (0.6.7)\r\n",
      "Requirement already satisfied: langchain<0.3.0,>=0.2.13 in /Users/fangwen/classProject/DamoonGitHubSentinel/.venv/lib/python3.12/site-packages (from langchain-community) (0.2.14)\r\n",
      "Requirement already satisfied: langchain-core<0.3.0,>=0.2.30 in /Users/fangwen/classProject/DamoonGitHubSentinel/.venv/lib/python3.12/site-packages (from langchain-community) (0.2.33)\r\n",
      "Requirement already satisfied: langsmith<0.2.0,>=0.1.0 in /Users/fangwen/classProject/DamoonGitHubSentinel/.venv/lib/python3.12/site-packages (from langchain-community) (0.1.104)\r\n",
      "Requirement already satisfied: numpy<2.0.0,>=1.26.0 in /Users/fangwen/classProject/DamoonGitHubSentinel/.venv/lib/python3.12/site-packages (from langchain-community) (1.26.4)\r\n",
      "Requirement already satisfied: requests<3,>=2 in /Users/fangwen/classProject/DamoonGitHubSentinel/.venv/lib/python3.12/site-packages (from langchain-community) (2.32.3)\r\n",
      "Requirement already satisfied: tenacity!=8.4.0,<9.0.0,>=8.1.0 in /Users/fangwen/classProject/DamoonGitHubSentinel/.venv/lib/python3.12/site-packages (from langchain-community) (8.5.0)\r\n",
      "Requirement already satisfied: langgraph-checkpoint<2.0.0,>=1.0.2 in /Users/fangwen/classProject/DamoonGitHubSentinel/.venv/lib/python3.12/site-packages (from langgraph) (1.0.6)\r\n",
      "Requirement already satisfied: anthropic<1,>=0.30.0 in /Users/fangwen/classProject/DamoonGitHubSentinel/.venv/lib/python3.12/site-packages (from langchain-anthropic) (0.34.1)\r\n",
      "Requirement already satisfied: defusedxml<0.8.0,>=0.7.1 in /Users/fangwen/classProject/DamoonGitHubSentinel/.venv/lib/python3.12/site-packages (from langchain-anthropic) (0.7.1)\r\n",
      "Requirement already satisfied: tiktoken>=0.5.1 in /Users/fangwen/classProject/DamoonGitHubSentinel/.venv/lib/python3.12/site-packages (from tavily-python) (0.7.0)\r\n",
      "Requirement already satisfied: httpx in /Users/fangwen/classProject/DamoonGitHubSentinel/.venv/lib/python3.12/site-packages (from tavily-python) (0.27.0)\r\n",
      "Collecting aiosqlite<0.21.0,>=0.20.0 (from langgraph-checkpoint-sqlite)\r\n",
      "  Downloading aiosqlite-0.20.0-py3-none-any.whl.metadata (4.3 kB)\r\n",
      "Requirement already satisfied: aiohappyeyeballs>=2.3.0 in /Users/fangwen/classProject/DamoonGitHubSentinel/.venv/lib/python3.12/site-packages (from aiohttp<4.0.0,>=3.8.3->langchain-community) (2.3.7)\r\n",
      "Requirement already satisfied: aiosignal>=1.1.2 in /Users/fangwen/classProject/DamoonGitHubSentinel/.venv/lib/python3.12/site-packages (from aiohttp<4.0.0,>=3.8.3->langchain-community) (1.3.1)\r\n",
      "Requirement already satisfied: attrs>=17.3.0 in /Users/fangwen/classProject/DamoonGitHubSentinel/.venv/lib/python3.12/site-packages (from aiohttp<4.0.0,>=3.8.3->langchain-community) (24.2.0)\r\n",
      "Requirement already satisfied: frozenlist>=1.1.1 in /Users/fangwen/classProject/DamoonGitHubSentinel/.venv/lib/python3.12/site-packages (from aiohttp<4.0.0,>=3.8.3->langchain-community) (1.4.1)\r\n",
      "Requirement already satisfied: multidict<7.0,>=4.5 in /Users/fangwen/classProject/DamoonGitHubSentinel/.venv/lib/python3.12/site-packages (from aiohttp<4.0.0,>=3.8.3->langchain-community) (6.0.5)\r\n",
      "Requirement already satisfied: yarl<2.0,>=1.0 in /Users/fangwen/classProject/DamoonGitHubSentinel/.venv/lib/python3.12/site-packages (from aiohttp<4.0.0,>=3.8.3->langchain-community) (1.9.4)\r\n",
      "Requirement already satisfied: typing_extensions>=4.0 in /Users/fangwen/classProject/DamoonGitHubSentinel/.venv/lib/python3.12/site-packages (from aiosqlite<0.21.0,>=0.20.0->langgraph-checkpoint-sqlite) (4.12.2)\r\n",
      "Requirement already satisfied: anyio<5,>=3.5.0 in /Users/fangwen/classProject/DamoonGitHubSentinel/.venv/lib/python3.12/site-packages (from anthropic<1,>=0.30.0->langchain-anthropic) (4.4.0)\r\n",
      "Requirement already satisfied: distro<2,>=1.7.0 in /Users/fangwen/classProject/DamoonGitHubSentinel/.venv/lib/python3.12/site-packages (from anthropic<1,>=0.30.0->langchain-anthropic) (1.9.0)\r\n",
      "Requirement already satisfied: jiter<1,>=0.4.0 in /Users/fangwen/classProject/DamoonGitHubSentinel/.venv/lib/python3.12/site-packages (from anthropic<1,>=0.30.0->langchain-anthropic) (0.5.0)\r\n",
      "Requirement already satisfied: pydantic<3,>=1.9.0 in /Users/fangwen/classProject/DamoonGitHubSentinel/.venv/lib/python3.12/site-packages (from anthropic<1,>=0.30.0->langchain-anthropic) (2.8.2)\r\n",
      "Requirement already satisfied: sniffio in /Users/fangwen/classProject/DamoonGitHubSentinel/.venv/lib/python3.12/site-packages (from anthropic<1,>=0.30.0->langchain-anthropic) (1.3.1)\r\n",
      "Requirement already satisfied: tokenizers>=0.13.0 in /Users/fangwen/classProject/DamoonGitHubSentinel/.venv/lib/python3.12/site-packages (from anthropic<1,>=0.30.0->langchain-anthropic) (0.20.0)\r\n",
      "Requirement already satisfied: marshmallow<4.0.0,>=3.18.0 in /Users/fangwen/classProject/DamoonGitHubSentinel/.venv/lib/python3.12/site-packages (from dataclasses-json<0.7,>=0.5.7->langchain-community) (3.21.3)\r\n",
      "Requirement already satisfied: typing-inspect<1,>=0.4.0 in /Users/fangwen/classProject/DamoonGitHubSentinel/.venv/lib/python3.12/site-packages (from dataclasses-json<0.7,>=0.5.7->langchain-community) (0.9.0)\r\n",
      "Requirement already satisfied: certifi in /Users/fangwen/classProject/DamoonGitHubSentinel/.venv/lib/python3.12/site-packages (from httpx->tavily-python) (2024.7.4)\r\n",
      "Requirement already satisfied: httpcore==1.* in /Users/fangwen/classProject/DamoonGitHubSentinel/.venv/lib/python3.12/site-packages (from httpx->tavily-python) (1.0.5)\r\n",
      "Requirement already satisfied: idna in /Users/fangwen/classProject/DamoonGitHubSentinel/.venv/lib/python3.12/site-packages (from httpx->tavily-python) (3.7)\r\n",
      "Requirement already satisfied: h11<0.15,>=0.13 in /Users/fangwen/classProject/DamoonGitHubSentinel/.venv/lib/python3.12/site-packages (from httpcore==1.*->httpx->tavily-python) (0.14.0)\r\n",
      "Requirement already satisfied: langchain-text-splitters<0.3.0,>=0.2.0 in /Users/fangwen/classProject/DamoonGitHubSentinel/.venv/lib/python3.12/site-packages (from langchain<0.3.0,>=0.2.13->langchain-community) (0.2.2)\r\n",
      "Requirement already satisfied: jsonpatch<2.0,>=1.33 in /Users/fangwen/classProject/DamoonGitHubSentinel/.venv/lib/python3.12/site-packages (from langchain-core<0.3.0,>=0.2.30->langchain-community) (1.33)\r\n",
      "Requirement already satisfied: packaging<25,>=23.2 in /Users/fangwen/classProject/DamoonGitHubSentinel/.venv/lib/python3.12/site-packages (from langchain-core<0.3.0,>=0.2.30->langchain-community) (24.1)\r\n",
      "Requirement already satisfied: orjson<4.0.0,>=3.9.14 in /Users/fangwen/classProject/DamoonGitHubSentinel/.venv/lib/python3.12/site-packages (from langsmith<0.2.0,>=0.1.0->langchain-community) (3.10.7)\r\n",
      "Requirement already satisfied: charset-normalizer<4,>=2 in /Users/fangwen/classProject/DamoonGitHubSentinel/.venv/lib/python3.12/site-packages (from requests<3,>=2->langchain-community) (3.3.2)\r\n",
      "Requirement already satisfied: urllib3<3,>=1.21.1 in /Users/fangwen/classProject/DamoonGitHubSentinel/.venv/lib/python3.12/site-packages (from requests<3,>=2->langchain-community) (2.2.2)\r\n",
      "Requirement already satisfied: regex>=2022.1.18 in /Users/fangwen/classProject/DamoonGitHubSentinel/.venv/lib/python3.12/site-packages (from tiktoken>=0.5.1->tavily-python) (2024.7.24)\r\n",
      "Requirement already satisfied: jsonpointer>=1.9 in /Users/fangwen/classProject/DamoonGitHubSentinel/.venv/lib/python3.12/site-packages (from jsonpatch<2.0,>=1.33->langchain-core<0.3.0,>=0.2.30->langchain-community) (3.0.0)\r\n",
      "Requirement already satisfied: annotated-types>=0.4.0 in /Users/fangwen/classProject/DamoonGitHubSentinel/.venv/lib/python3.12/site-packages (from pydantic<3,>=1.9.0->anthropic<1,>=0.30.0->langchain-anthropic) (0.7.0)\r\n",
      "Requirement already satisfied: pydantic-core==2.20.1 in /Users/fangwen/classProject/DamoonGitHubSentinel/.venv/lib/python3.12/site-packages (from pydantic<3,>=1.9.0->anthropic<1,>=0.30.0->langchain-anthropic) (2.20.1)\r\n",
      "Requirement already satisfied: huggingface-hub<1.0,>=0.16.4 in /Users/fangwen/classProject/DamoonGitHubSentinel/.venv/lib/python3.12/site-packages (from tokenizers>=0.13.0->anthropic<1,>=0.30.0->langchain-anthropic) (0.24.5)\r\n",
      "Requirement already satisfied: mypy-extensions>=0.3.0 in /Users/fangwen/classProject/DamoonGitHubSentinel/.venv/lib/python3.12/site-packages (from typing-inspect<1,>=0.4.0->dataclasses-json<0.7,>=0.5.7->langchain-community) (1.0.0)\r\n",
      "Requirement already satisfied: filelock in /Users/fangwen/classProject/DamoonGitHubSentinel/.venv/lib/python3.12/site-packages (from huggingface-hub<1.0,>=0.16.4->tokenizers>=0.13.0->anthropic<1,>=0.30.0->langchain-anthropic) (3.15.4)\r\n",
      "Requirement already satisfied: fsspec>=2023.5.0 in /Users/fangwen/classProject/DamoonGitHubSentinel/.venv/lib/python3.12/site-packages (from huggingface-hub<1.0,>=0.16.4->tokenizers>=0.13.0->anthropic<1,>=0.30.0->langchain-anthropic) (2024.6.1)\r\n",
      "Requirement already satisfied: tqdm>=4.42.1 in /Users/fangwen/classProject/DamoonGitHubSentinel/.venv/lib/python3.12/site-packages (from huggingface-hub<1.0,>=0.16.4->tokenizers>=0.13.0->anthropic<1,>=0.30.0->langchain-anthropic) (4.66.5)\r\n",
      "Downloading tavily_python-0.4.0-py3-none-any.whl (13 kB)\r\n",
      "Downloading langgraph_checkpoint_sqlite-1.0.0-py3-none-any.whl (11 kB)\r\n",
      "Downloading aiosqlite-0.20.0-py3-none-any.whl (15 kB)\r\n",
      "Installing collected packages: aiosqlite, tavily-python, langgraph-checkpoint-sqlite\r\n",
      "Successfully installed aiosqlite-0.20.0 langgraph-checkpoint-sqlite-1.0.0 tavily-python-0.4.0\r\n",
      "\r\n",
      "\u001B[1m[\u001B[0m\u001B[34;49mnotice\u001B[0m\u001B[1;39;49m]\u001B[0m\u001B[39;49m A new release of pip is available: \u001B[0m\u001B[31;49m24.0\u001B[0m\u001B[39;49m -> \u001B[0m\u001B[32;49m24.2\u001B[0m\r\n",
      "\u001B[1m[\u001B[0m\u001B[34;49mnotice\u001B[0m\u001B[1;39;49m]\u001B[0m\u001B[39;49m To update, run: \u001B[0m\u001B[32;49mpip install --upgrade pip\u001B[0m\r\n"
     ]
    }
   ],
   "source": [
    "!pip install -U langchain-community langgraph langchain-anthropic tavily-python langgraph-checkpoint-sqlite"
   ]
  },
  {
   "cell_type": "code",
   "outputs": [
    {
     "name": "stdout",
     "output_type": "stream",
     "text": [
      "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\n",
      "[{'url': 'https://www.weatherapi.com/', 'content': \"{'location': {'name': 'San Francisco', 'region': 'California', 'country': 'United States of America', 'lat': 37.78, 'lon': -122.42, 'tz_id': 'America/Los_Angeles', 'localtime_epoch': 1724522387, 'localtime': '2024-08-24 10:59'}, 'current': {'last_updated_epoch': 1724521500, 'last_updated': '2024-08-24 10:45', 'temp_c': 20.6, 'temp_f': 69.1, 'is_day': 1, 'condition': {'text': 'Partly cloudy', 'icon': '//cdn.weatherapi.com/weather/64x64/day/116.png', 'code': 1003}, 'wind_mph': 5.6, 'wind_kph': 9.0, 'wind_degree': 230, 'wind_dir': 'SW', 'pressure_mb': 1019.0, 'pressure_in': 30.08, 'precip_mm': 0.0, 'precip_in': 0.0, 'humidity': 73, 'cloud': 75, 'feelslike_c': 20.6, 'feelslike_f': 69.1, 'windchill_c': 16.9, 'windchill_f': 62.5, 'heatindex_c': 17.0, 'heatindex_f': 62.5, 'dewpoint_c': 13.3, 'dewpoint_f': 55.9, 'vis_km': 16.0, 'vis_miles': 9.0, 'uv': 5.0, 'gust_mph': 9.5, 'gust_kph': 15.3}}\"}, {'url': 'https://www.almanac.com/weather/longrange/CA/San Francisco', 'content': '60-Day Extended Weather Forecast for San Francisco, CA. ... Free 2-Month Weather Forecast. August 2024 Long Range Weather Forecast for Pacific Southwest; Dates Weather Conditions; Aug 1-4: Sunny, warm: Aug 5-14: Sunny inland; AM clouds, PM sun coast; mild: Aug 15-24: Sunny; warm coast, cool inland: Aug 25-31: Sunny, warm: August: temperature 73 ...'}]\n"
     ]
    }
   ],
   "source": [
    "from langchain_community.tools.tavily_search import TavilySearchResults\n",
    "import os\n",
    "os.environ['TAVILY_API_KEY']=\"xxx\"\n",
    "\n",
    "print(os.environ['TAVILY_API_KEY'])\n",
    "# print(os.environ['TAVILY_API_KEY'])\n",
    "search =  TavilySearchResults(max_results = 2, TAVILY_API_KEY=os.environ['TAVILY_API_KEY'])\n",
    "search_results = search.invoke(\"what is the weather in SF\")\n",
    "print(search_results)"
   ],
   "metadata": {
    "collapsed": false,
    "ExecuteTime": {
     "end_time": "2024-08-24T18:01:35.847456Z",
     "start_time": "2024-08-24T18:01:30.424564Z"
    }
   },
   "id": "5e885e9e4247bcb5",
   "execution_count": 18
  },
  {
   "cell_type": "code",
   "outputs": [
    {
     "name": "stdout",
     "output_type": "stream",
     "text": [
      "\r\n",
      "\u001B[1m[\u001B[0m\u001B[34;49mnotice\u001B[0m\u001B[1;39;49m]\u001B[0m\u001B[39;49m A new release of pip is available: \u001B[0m\u001B[31;49m24.0\u001B[0m\u001B[39;49m -> \u001B[0m\u001B[32;49m24.2\u001B[0m\r\n",
      "\u001B[1m[\u001B[0m\u001B[34;49mnotice\u001B[0m\u001B[1;39;49m]\u001B[0m\u001B[39;49m To update, run: \u001B[0m\u001B[32;49mpip install --upgrade pip\u001B[0m\r\n"
     ]
    }
   ],
   "source": [
    "!pip install -qU langchain-openai"
   ],
   "metadata": {
    "collapsed": false,
    "ExecuteTime": {
     "end_time": "2024-08-24T18:02:32.627983Z",
     "start_time": "2024-08-24T18:02:31.159321Z"
    }
   },
   "id": "62983aa75fc0331e",
   "execution_count": 19
  },
  {
   "cell_type": "code",
   "outputs": [
    {
     "data": {
      "text/plain": "'Hello! How can I assist you today?'"
     },
     "execution_count": 20,
     "metadata": {},
     "output_type": "execute_result"
    }
   ],
   "source": [
    "from langchain_openai import ChatOpenAI\n",
    "from langchain_core.messages import HumanMessage\n",
    "\n",
    "model = ChatOpenAI(model=\"gpt-4o\")\n",
    "response = model.invoke([HumanMessage(content=\"hi!\")])\n",
    "response.content"
   ],
   "metadata": {
    "collapsed": false,
    "ExecuteTime": {
     "end_time": "2024-08-24T18:03:12.499587Z",
     "start_time": "2024-08-24T18:03:11.338362Z"
    }
   },
   "id": "3c8acd578a2101c2",
   "execution_count": 20
  },
  {
   "cell_type": "code",
   "outputs": [
    {
     "name": "stdout",
     "output_type": "stream",
     "text": [
      "ContentString: Hello! How can I assist you today?\n",
      "ToolCalls: []\n"
     ]
    }
   ],
   "source": [
    "tools = [search]\n",
    "model_with_tools = model.bind_tools(tools)\n",
    "response = model_with_tools.invoke([HumanMessage(content=\"Hi!\")])\n",
    "print(f\"ContentString: {response.content}\")\n",
    "print(f\"ToolCalls: {response.tool_calls}\")"
   ],
   "metadata": {
    "collapsed": false,
    "ExecuteTime": {
     "end_time": "2024-08-24T18:04:28.483188Z",
     "start_time": "2024-08-24T18:04:27.786633Z"
    }
   },
   "id": "4a126be44aa949e7",
   "execution_count": 22
  },
  {
   "cell_type": "code",
   "outputs": [
    {
     "name": "stdout",
     "output_type": "stream",
     "text": [
      "ContentString: \n",
      "ToolCalls: [{'name': 'tavily_search_results_json', 'args': {'query': 'current weather in San Francisco'}, 'id': 'call_8TKuFHkmd7XPNyIRQihYN5Hb', 'type': 'tool_call'}]\n"
     ]
    }
   ],
   "source": [
    "response = model_with_tools.invoke([HumanMessage(content=\"What's the weather in SF?\")])\n",
    "\n",
    "print(f\"ContentString: {response.content}\")\n",
    "print(f\"ToolCalls: {response.tool_calls}\")"
   ],
   "metadata": {
    "collapsed": false,
    "ExecuteTime": {
     "end_time": "2024-08-24T18:04:46.206592Z",
     "start_time": "2024-08-24T18:04:44.889082Z"
    }
   },
   "id": "bdb18efa4a91b375",
   "execution_count": 23
  },
  {
   "cell_type": "code",
   "outputs": [
    {
     "data": {
      "text/plain": "[HumanMessage(content='hi!', id='ef98c024-362a-44f4-876b-bada8b6abe11'),\n AIMessage(content='Hello! How can I assist you today?', additional_kwargs={'refusal': None}, response_metadata={'token_usage': {'completion_tokens': 10, 'prompt_tokens': 81, 'total_tokens': 91}, 'model_name': 'gpt-4o-2024-05-13', 'system_fingerprint': 'fp_abc28019ad', 'finish_reason': 'stop', 'logprobs': None}, id='run-9ff022f6-075e-4893-bfb1-016c19019cb2-0', usage_metadata={'input_tokens': 81, 'output_tokens': 10, 'total_tokens': 91})]"
     },
     "execution_count": 24,
     "metadata": {},
     "output_type": "execute_result"
    }
   ],
   "source": [
    "from langgraph.prebuilt import create_react_agent\n",
    "\n",
    "agent_executor = create_react_agent(model, tools)\n",
    "response = agent_executor.invoke({\"messages\": [HumanMessage(content=\"hi!\")]})\n",
    "\n",
    "response[\"messages\"]"
   ],
   "metadata": {
    "collapsed": false,
    "ExecuteTime": {
     "end_time": "2024-08-24T18:06:43.232680Z",
     "start_time": "2024-08-24T18:06:42.074080Z"
    }
   },
   "id": "81782d92f94bcdeb",
   "execution_count": 24
  },
  {
   "cell_type": "code",
   "outputs": [
    {
     "data": {
      "text/plain": "[HumanMessage(content='whats the weather in SF?', id='9c232a8f-1f16-4f6a-8d69-ee0a0b451ac1'),\n AIMessage(content='', additional_kwargs={'tool_calls': [{'id': 'call_NluHidjAV3KHG8jA74gURTGZ', 'function': {'arguments': '{\"query\":\"current weather in San Francisco\"}', 'name': 'tavily_search_results_json'}, 'type': 'function'}], 'refusal': None}, response_metadata={'token_usage': {'completion_tokens': 22, 'prompt_tokens': 86, 'total_tokens': 108}, 'model_name': 'gpt-4o-2024-05-13', 'system_fingerprint': 'fp_abc28019ad', 'finish_reason': 'tool_calls', 'logprobs': None}, id='run-6dd89f7b-8576-4071-95e2-c6facc86c19f-0', tool_calls=[{'name': 'tavily_search_results_json', 'args': {'query': 'current weather in San Francisco'}, 'id': 'call_NluHidjAV3KHG8jA74gURTGZ', 'type': 'tool_call'}], usage_metadata={'input_tokens': 86, 'output_tokens': 22, 'total_tokens': 108}),\n ToolMessage(content='[{\"url\": \"https://www.weatherapi.com/\", \"content\": \"{\\'location\\': {\\'name\\': \\'San Francisco\\', \\'region\\': \\'California\\', \\'country\\': \\'United States of America\\', \\'lat\\': 37.78, \\'lon\\': -122.42, \\'tz_id\\': \\'America/Los_Angeles\\', \\'localtime_epoch\\': 1724522818, \\'localtime\\': \\'2024-08-24 11:06\\'}, \\'current\\': {\\'last_updated_epoch\\': 1724522400, \\'last_updated\\': \\'2024-08-24 11:00\\', \\'temp_c\\': 20.6, \\'temp_f\\': 69.1, \\'is_day\\': 1, \\'condition\\': {\\'text\\': \\'Partly cloudy\\', \\'icon\\': \\'//cdn.weatherapi.com/weather/64x64/day/116.png\\', \\'code\\': 1003}, \\'wind_mph\\': 5.6, \\'wind_kph\\': 9.0, \\'wind_degree\\': 230, \\'wind_dir\\': \\'SW\\', \\'pressure_mb\\': 1019.0, \\'pressure_in\\': 30.08, \\'precip_mm\\': 0.0, \\'precip_in\\': 0.0, \\'humidity\\': 73, \\'cloud\\': 75, \\'feelslike_c\\': 20.6, \\'feelslike_f\\': 69.1, \\'windchill_c\\': 17.5, \\'windchill_f\\': 63.6, \\'heatindex_c\\': 17.6, \\'heatindex_f\\': 63.6, \\'dewpoint_c\\': 13.1, \\'dewpoint_f\\': 55.6, \\'vis_km\\': 16.0, \\'vis_miles\\': 9.0, \\'uv\\': 5.0, \\'gust_mph\\': 10.9, \\'gust_kph\\': 17.6}}\"}, {\"url\": \"https://www.timeanddate.com/weather/@z-us-94128/hourly\", \"content\": \"Hour-by-Hour Forecast for San Francisco, USA. Currently: 58 \\\\u00b0F. Mostly cloudy. (Weather station: San Francisco International Airport, USA). See more current weather.\"}]', name='tavily_search_results_json', id='5835c5dc-6de0-4425-8ddc-25f87fd6bb48', tool_call_id='call_NluHidjAV3KHG8jA74gURTGZ', artifact={'query': 'current weather in San Francisco', 'follow_up_questions': None, 'answer': None, 'images': [], 'results': [{'title': 'Weather in San Francisco', 'url': 'https://www.weatherapi.com/', 'content': \"{'location': {'name': 'San Francisco', 'region': 'California', 'country': 'United States of America', 'lat': 37.78, 'lon': -122.42, 'tz_id': 'America/Los_Angeles', 'localtime_epoch': 1724522818, 'localtime': '2024-08-24 11:06'}, 'current': {'last_updated_epoch': 1724522400, 'last_updated': '2024-08-24 11:00', 'temp_c': 20.6, 'temp_f': 69.1, 'is_day': 1, 'condition': {'text': 'Partly cloudy', 'icon': '//cdn.weatherapi.com/weather/64x64/day/116.png', 'code': 1003}, 'wind_mph': 5.6, 'wind_kph': 9.0, 'wind_degree': 230, 'wind_dir': 'SW', 'pressure_mb': 1019.0, 'pressure_in': 30.08, 'precip_mm': 0.0, 'precip_in': 0.0, 'humidity': 73, 'cloud': 75, 'feelslike_c': 20.6, 'feelslike_f': 69.1, 'windchill_c': 17.5, 'windchill_f': 63.6, 'heatindex_c': 17.6, 'heatindex_f': 63.6, 'dewpoint_c': 13.1, 'dewpoint_f': 55.6, 'vis_km': 16.0, 'vis_miles': 9.0, 'uv': 5.0, 'gust_mph': 10.9, 'gust_kph': 17.6}}\", 'score': 0.9956492, 'raw_content': None}, {'title': 'Hourly forecast for San Francisco, USA - timeanddate.com', 'url': 'https://www.timeanddate.com/weather/@z-us-94128/hourly', 'content': 'Hour-by-Hour Forecast for San Francisco, USA. Currently: 58 °F. Mostly cloudy. (Weather station: San Francisco International Airport, USA). See more current weather.', 'score': 0.9928231, 'raw_content': None}], 'response_time': 3.11}),\n AIMessage(content='The current weather in San Francisco is partly cloudy, with a temperature of 20.6°C (69.1°F). The wind is coming from the southwest at 5.6 mph (9.0 kph), and the humidity is 73%. Visibility is 16 km (9 miles), and the UV index is 5.\\n\\nFor more details, you can check the hourly forecast [here](https://www.timeanddate.com/weather/@z-us-94128/hourly).', additional_kwargs={'refusal': None}, response_metadata={'token_usage': {'completion_tokens': 100, 'prompt_tokens': 591, 'total_tokens': 691}, 'model_name': 'gpt-4o-2024-05-13', 'system_fingerprint': 'fp_abc28019ad', 'finish_reason': 'stop', 'logprobs': None}, id='run-f9fbc49e-41cb-406a-a631-896c2f004e23-0', usage_metadata={'input_tokens': 591, 'output_tokens': 100, 'total_tokens': 691})]"
     },
     "execution_count": 25,
     "metadata": {},
     "output_type": "execute_result"
    }
   ],
   "source": [
    "response = agent_executor.invoke({\"messages\": [HumanMessage(content=\"whats the weather in SF?\")]})\n",
    "response[\"messages\"]"
   ],
   "metadata": {
    "collapsed": false,
    "ExecuteTime": {
     "end_time": "2024-08-24T18:08:49.410184Z",
     "start_time": "2024-08-24T18:08:40.819787Z"
    }
   },
   "id": "b0c188e7d0595d35",
   "execution_count": 25
  },
  {
   "cell_type": "code",
   "outputs": [
    {
     "name": "stdout",
     "output_type": "stream",
     "text": [
      "{'agent': {'messages': [AIMessage(content='', additional_kwargs={'tool_calls': [{'id': 'call_nxfRgRdifa3GqWaSiIgoTPbw', 'function': {'arguments': '{\"query\":\"current weather in San Francisco\"}', 'name': 'tavily_search_results_json'}, 'type': 'function'}], 'refusal': None}, response_metadata={'token_usage': {'completion_tokens': 22, 'prompt_tokens': 86, 'total_tokens': 108}, 'model_name': 'gpt-4o-2024-05-13', 'system_fingerprint': 'fp_abc28019ad', 'finish_reason': 'tool_calls', 'logprobs': None}, id='run-736dcc21-773a-489a-8b14-74bd337492ce-0', tool_calls=[{'name': 'tavily_search_results_json', 'args': {'query': 'current weather in San Francisco'}, 'id': 'call_nxfRgRdifa3GqWaSiIgoTPbw', 'type': 'tool_call'}], usage_metadata={'input_tokens': 86, 'output_tokens': 22, 'total_tokens': 108})]}}\n",
      "-----\n",
      "{'tools': {'messages': [ToolMessage(content='[{\"url\": \"https://www.weatherapi.com/\", \"content\": \"{\\'location\\': {\\'name\\': \\'San Francisco\\', \\'region\\': \\'California\\', \\'country\\': \\'United States of America\\', \\'lat\\': 37.78, \\'lon\\': -122.42, \\'tz_id\\': \\'America/Los_Angeles\\', \\'localtime_epoch\\': 1724523044, \\'localtime\\': \\'2024-08-24 11:10\\'}, \\'current\\': {\\'last_updated_epoch\\': 1724522400, \\'last_updated\\': \\'2024-08-24 11:00\\', \\'temp_c\\': 20.6, \\'temp_f\\': 69.1, \\'is_day\\': 1, \\'condition\\': {\\'text\\': \\'Partly cloudy\\', \\'icon\\': \\'//cdn.weatherapi.com/weather/64x64/day/116.png\\', \\'code\\': 1003}, \\'wind_mph\\': 5.6, \\'wind_kph\\': 9.0, \\'wind_degree\\': 230, \\'wind_dir\\': \\'SW\\', \\'pressure_mb\\': 1019.0, \\'pressure_in\\': 30.08, \\'precip_mm\\': 0.0, \\'precip_in\\': 0.0, \\'humidity\\': 73, \\'cloud\\': 75, \\'feelslike_c\\': 20.6, \\'feelslike_f\\': 69.1, \\'windchill_c\\': 17.5, \\'windchill_f\\': 63.6, \\'heatindex_c\\': 17.6, \\'heatindex_f\\': 63.6, \\'dewpoint_c\\': 13.1, \\'dewpoint_f\\': 55.6, \\'vis_km\\': 16.0, \\'vis_miles\\': 9.0, \\'uv\\': 5.0, \\'gust_mph\\': 10.9, \\'gust_kph\\': 17.6}}\"}, {\"url\": \"https://www.timeanddate.com/weather/usa/san-francisco/hourly\", \"content\": \"Hour-by-Hour Forecast for San Francisco, California, USA. Currently: 61 \\\\u00b0F. Broken clouds. (Weather station: San Francisco International Airport, USA). See more current weather.\"}]', name='tavily_search_results_json', tool_call_id='call_nxfRgRdifa3GqWaSiIgoTPbw', artifact={'query': 'current weather in San Francisco', 'follow_up_questions': None, 'answer': None, 'images': [], 'results': [{'title': 'Weather in San Francisco', 'url': 'https://www.weatherapi.com/', 'content': \"{'location': {'name': 'San Francisco', 'region': 'California', 'country': 'United States of America', 'lat': 37.78, 'lon': -122.42, 'tz_id': 'America/Los_Angeles', 'localtime_epoch': 1724523044, 'localtime': '2024-08-24 11:10'}, 'current': {'last_updated_epoch': 1724522400, 'last_updated': '2024-08-24 11:00', 'temp_c': 20.6, 'temp_f': 69.1, 'is_day': 1, 'condition': {'text': 'Partly cloudy', 'icon': '//cdn.weatherapi.com/weather/64x64/day/116.png', 'code': 1003}, 'wind_mph': 5.6, 'wind_kph': 9.0, 'wind_degree': 230, 'wind_dir': 'SW', 'pressure_mb': 1019.0, 'pressure_in': 30.08, 'precip_mm': 0.0, 'precip_in': 0.0, 'humidity': 73, 'cloud': 75, 'feelslike_c': 20.6, 'feelslike_f': 69.1, 'windchill_c': 17.5, 'windchill_f': 63.6, 'heatindex_c': 17.6, 'heatindex_f': 63.6, 'dewpoint_c': 13.1, 'dewpoint_f': 55.6, 'vis_km': 16.0, 'vis_miles': 9.0, 'uv': 5.0, 'gust_mph': 10.9, 'gust_kph': 17.6}}\", 'score': 0.9893514, 'raw_content': None}, {'title': 'Hourly forecast for San Francisco, California, USA - timeanddate.com', 'url': 'https://www.timeanddate.com/weather/usa/san-francisco/hourly', 'content': 'Hour-by-Hour Forecast for San Francisco, California, USA. Currently: 61 °F. Broken clouds. (Weather station: San Francisco International Airport, USA). See more current weather.', 'score': 0.9850429, 'raw_content': None}], 'response_time': 3.38})]}}\n",
      "-----\n",
      "{'agent': {'messages': [AIMessage(content='The current weather in San Francisco is partly cloudy with a temperature of approximately 69.1°F (20.6°C). The wind is blowing from the southwest at 5.6 mph (9.0 kph) with gusts up to 10.9 mph (17.6 kph). The humidity level is around 73%, and visibility is about 9 miles (16 km).', additional_kwargs={'refusal': None}, response_metadata={'token_usage': {'completion_tokens': 82, 'prompt_tokens': 594, 'total_tokens': 676}, 'model_name': 'gpt-4o-2024-05-13', 'system_fingerprint': 'fp_80a1bad4c7', 'finish_reason': 'stop', 'logprobs': None}, id='run-c91eab02-01f8-473d-9c87-b04352c9c704-0', usage_metadata={'input_tokens': 594, 'output_tokens': 82, 'total_tokens': 676})]}}\n",
      "-----\n"
     ]
    }
   ],
   "source": [
    "for chunk in agent_executor.stream(\n",
    "     {\"messages\": [HumanMessage(content=\"whats the weather in sf?\")]}\n",
    "):\n",
    "    print(chunk)\n",
    "    print(\"-----\")"
   ],
   "metadata": {
    "collapsed": false,
    "ExecuteTime": {
     "end_time": "2024-08-24T18:13:15.031595Z",
     "start_time": "2024-08-24T18:13:07.819890Z"
    }
   },
   "id": "5007e14863990d94",
   "execution_count": 26
  },
  {
   "cell_type": "code",
   "outputs": [
    {
     "name": "stderr",
     "output_type": "stream",
     "text": [
      "/Users/fangwen/classProject/DamoonGitHubSentinel/.venv/lib/python3.12/site-packages/langchain_core/_api/beta_decorator.py:87: LangChainBetaWarning: This API is in beta and may change in the future.\n",
      "  warn_beta(\n"
     ]
    },
    {
     "name": "stdout",
     "output_type": "stream",
     "text": [
      "--\n",
      "Starting tool: tavily_search_results_json with inputs: {'query': 'current weather in San Francisco'}\n",
      "Done tool: tavily_search_results_json\n",
      "Tool output was: content='[{\"url\": \"https://www.weatherapi.com/\", \"content\": \"{\\'location\\': {\\'name\\': \\'San Francisco\\', \\'region\\': \\'California\\', \\'country\\': \\'United States of America\\', \\'lat\\': 37.78, \\'lon\\': -122.42, \\'tz_id\\': \\'America/Los_Angeles\\', \\'localtime_epoch\\': 1724523556, \\'localtime\\': \\'2024-08-24 11:19\\'}, \\'current\\': {\\'last_updated_epoch\\': 1724523300, \\'last_updated\\': \\'2024-08-24 11:15\\', \\'temp_c\\': 21.1, \\'temp_f\\': 70.0, \\'is_day\\': 1, \\'condition\\': {\\'text\\': \\'Partly cloudy\\', \\'icon\\': \\'//cdn.weatherapi.com/weather/64x64/day/116.png\\', \\'code\\': 1003}, \\'wind_mph\\': 8.1, \\'wind_kph\\': 13.0, \\'wind_degree\\': 310, \\'wind_dir\\': \\'NW\\', \\'pressure_mb\\': 1019.0, \\'pressure_in\\': 30.09, \\'precip_mm\\': 0.0, \\'precip_in\\': 0.0, \\'humidity\\': 71, \\'cloud\\': 75, \\'feelslike_c\\': 21.1, \\'feelslike_f\\': 70.0, \\'windchill_c\\': 17.5, \\'windchill_f\\': 63.6, \\'heatindex_c\\': 17.6, \\'heatindex_f\\': 63.6, \\'dewpoint_c\\': 13.1, \\'dewpoint_f\\': 55.6, \\'vis_km\\': 16.0, \\'vis_miles\\': 9.0, \\'uv\\': 5.0, \\'gust_mph\\': 10.9, \\'gust_kph\\': 17.6}}\"}, {\"url\": \"https://www.weathertab.com/en/c/e/08/united-states/california/san-francisco/\", \"content\": \"Avg Low Temps 50 to 60 \\\\u00b0F. Explore comprehensive August 2024 weather forecasts for San Francisco, including daily high and low temperatures, precipitation risks, and monthly temperature trends. Featuring detailed day-by-day forecasts, dynamic graphs of daily rain probabilities, and temperature trends to help you plan ahead.\"}]' name='tavily_search_results_json' tool_call_id='call_VC8HWtrawyPUV3NHp0dfLRkL' artifact={'query': 'current weather in San Francisco', 'follow_up_questions': None, 'answer': None, 'images': [], 'results': [{'title': 'Weather in San Francisco', 'url': 'https://www.weatherapi.com/', 'content': \"{'location': {'name': 'San Francisco', 'region': 'California', 'country': 'United States of America', 'lat': 37.78, 'lon': -122.42, 'tz_id': 'America/Los_Angeles', 'localtime_epoch': 1724523556, 'localtime': '2024-08-24 11:19'}, 'current': {'last_updated_epoch': 1724523300, 'last_updated': '2024-08-24 11:15', 'temp_c': 21.1, 'temp_f': 70.0, 'is_day': 1, 'condition': {'text': 'Partly cloudy', 'icon': '//cdn.weatherapi.com/weather/64x64/day/116.png', 'code': 1003}, 'wind_mph': 8.1, 'wind_kph': 13.0, 'wind_degree': 310, 'wind_dir': 'NW', 'pressure_mb': 1019.0, 'pressure_in': 30.09, 'precip_mm': 0.0, 'precip_in': 0.0, 'humidity': 71, 'cloud': 75, 'feelslike_c': 21.1, 'feelslike_f': 70.0, 'windchill_c': 17.5, 'windchill_f': 63.6, 'heatindex_c': 17.6, 'heatindex_f': 63.6, 'dewpoint_c': 13.1, 'dewpoint_f': 55.6, 'vis_km': 16.0, 'vis_miles': 9.0, 'uv': 5.0, 'gust_mph': 10.9, 'gust_kph': 17.6}}\", 'score': 0.994765, 'raw_content': None}, {'title': 'Detailed San Francisco Weather Forecast for August 2024: Daily ...', 'url': 'https://www.weathertab.com/en/c/e/08/united-states/california/san-francisco/', 'content': 'Avg Low Temps 50 to 60 °F. Explore comprehensive August 2024 weather forecasts for San Francisco, including daily high and low temperatures, precipitation risks, and monthly temperature trends. Featuring detailed day-by-day forecasts, dynamic graphs of daily rain probabilities, and temperature trends to help you plan ahead.', 'score': 0.9750122, 'raw_content': None}], 'response_time': 2.49}\n",
      "--\n",
      "The| current| weather| in| San| Francisco| is|:\n",
      "\n",
      "|-| **|Condition|:**| Part|ly| cloudy|\n",
      "|-| **|Temperature|:**| |21|.|1|°C| (|70|.|0|°F|)\n",
      "|-| **|Wind|:**| |8|.|1| mph| (|13|.|0| k|ph|)| from| the| NW|\n",
      "|-| **|Humidity|:**| |71|%\n",
      "|-| **|Visibility|:**| |16| km| (|9| miles|)\n",
      "|-| **|UV| Index|:**| |5|\n",
      "\n",
      "|![|Weather| Icon|](|//|cdn|.weather|api|.com|/weather|/|64|x|64|/day|/|116|.png|)|"
     ]
    }
   ],
   "source": [
    "async for event in agent_executor.astream_events({\"messages\": [HumanMessage(content=\"whats the weather in sf?\")]}, version=\"v1\"):\n",
    "    kind = event[\"event\"]\n",
    "    if kind == \"on_chain_start\":\n",
    "        if event[\"name\"] == \"Agent\": # Was assigned when creating the agent with `.with_config({\"run_name\": \"Agent\"})`\n",
    "            print(f\"Starting agent: {event['name']} with input: {event['data'].get('input')}\")\n",
    "    elif kind == \"on_chain_end\": # Was assigned when creating the agent with `.with_config({\"run_name\": \"Agent\"})`\n",
    "        if event[\"name\"] == \"Agent\": \n",
    "            print()\n",
    "            print(\"--\")\n",
    "            print(\n",
    "                f\"Done agent: {event['name']} with output: {event['data'].get('output')['output']}\"\n",
    "            )\n",
    "    if kind == \"on_chat_model_stream\":\n",
    "        content = event[\"data\"][\"chunk\"].content\n",
    "        if content:\n",
    "            # Empty content in the context of OpenAI means\n",
    "            # that the model is asking for a tool to be invoked.\n",
    "            # So we only print non-empty content\n",
    "            print(content, end=\"|\")\n",
    "    elif kind == \"on_tool_start\":\n",
    "        print(\"--\")\n",
    "        print(\n",
    "            f\"Starting tool: {event['name']} with inputs: {event['data'].get('input')}\"\n",
    "        )\n",
    "    elif kind == \"on_tool_end\":\n",
    "        print(f\"Done tool: {event['name']}\")\n",
    "        print(f\"Tool output was: {event['data'].get('output')}\")\n",
    "        print(\"--\")\n",
    "            "
   ],
   "metadata": {
    "collapsed": false,
    "ExecuteTime": {
     "end_time": "2024-08-24T18:21:07.146874Z",
     "start_time": "2024-08-24T18:20:58.851294Z"
    }
   },
   "id": "385bff81ea4e5e4a",
   "execution_count": 27
  },
  {
   "cell_type": "code",
   "outputs": [
    {
     "name": "stdout",
     "output_type": "stream",
     "text": [
      "{'agent': {'messages': [AIMessage(content='Hi Bob! How can I assist you today?', additional_kwargs={'refusal': None}, response_metadata={'token_usage': {'completion_tokens': 11, 'prompt_tokens': 83, 'total_tokens': 94}, 'model_name': 'gpt-4o-2024-05-13', 'system_fingerprint': 'fp_abc28019ad', 'finish_reason': 'stop', 'logprobs': None}, id='run-bf262800-872e-420b-906e-a65dce3d0ce4-0', usage_metadata={'input_tokens': 83, 'output_tokens': 11, 'total_tokens': 94})]}}\n",
      "------\n"
     ]
    }
   ],
   "source": [
    "# 加入记忆\n",
    "from langgraph.checkpoint.memory import MemorySaver\n",
    "\n",
    "memory = MemorySaver()\n",
    "agent_executor = create_react_agent(model, tools, checkpointer=memory)\n",
    "\n",
    "config = {\"configurable\": {\"thread_id\": \"abc123\"}}\n",
    "\n",
    "for chunk in agent_executor.stream({\"messages\": [HumanMessage(content=\"hi im bob!\")]}, config):\n",
    "    print(chunk)\n",
    "    print(\"------\")"
   ],
   "metadata": {
    "collapsed": false,
    "ExecuteTime": {
     "end_time": "2024-08-24T18:24:16.332950Z",
     "start_time": "2024-08-24T18:24:15.461760Z"
    }
   },
   "id": "f7bc6ec3afef76e1",
   "execution_count": 28
  },
  {
   "cell_type": "code",
   "outputs": [
    {
     "name": "stdout",
     "output_type": "stream",
     "text": [
      "{'agent': {'messages': [AIMessage(content='Your name is Bob! How can I help you today, Bob?', additional_kwargs={'refusal': None}, response_metadata={'token_usage': {'completion_tokens': 15, 'prompt_tokens': 106, 'total_tokens': 121}, 'model_name': 'gpt-4o-2024-05-13', 'system_fingerprint': 'fp_abc28019ad', 'finish_reason': 'stop', 'logprobs': None}, id='run-c440bd7a-f80c-419c-8fe3-a55a68f35033-0', usage_metadata={'input_tokens': 106, 'output_tokens': 15, 'total_tokens': 121})]}}\n",
      "----\n"
     ]
    }
   ],
   "source": [
    "for chunk in agent_executor.stream(\n",
    "    {\"messages\": [HumanMessage(content=\"whats my name?\")]}, config\n",
    "):\n",
    "    print(chunk)\n",
    "    print(\"----\")"
   ],
   "metadata": {
    "collapsed": false,
    "ExecuteTime": {
     "end_time": "2024-08-24T18:24:54.933619Z",
     "start_time": "2024-08-24T18:24:53.782001Z"
    }
   },
   "id": "f36c5a5cb98327bd",
   "execution_count": 29
  },
  {
   "cell_type": "code",
   "outputs": [
    {
     "name": "stdout",
     "output_type": "stream",
     "text": [
      "{'agent': {'messages': [AIMessage(content=\"I don't have access to personal information like your name. How can I assist you today?\", additional_kwargs={'refusal': None}, response_metadata={'token_usage': {'completion_tokens': 19, 'prompt_tokens': 84, 'total_tokens': 103}, 'model_name': 'gpt-4o-2024-05-13', 'system_fingerprint': 'fp_abc28019ad', 'finish_reason': 'stop', 'logprobs': None}, id='run-f895d6f5-64c7-4143-85b7-047f26a25134-0', usage_metadata={'input_tokens': 84, 'output_tokens': 19, 'total_tokens': 103})]}}\n",
      "----\n"
     ]
    }
   ],
   "source": [
    "config = {\"configurable\": {\"thread_id\": \"xyz123\"}}\n",
    "for chunk in agent_executor.stream(\n",
    "    {\"messages\": [HumanMessage(content=\"whats my name?\")]}, config\n",
    "):\n",
    "    print(chunk)\n",
    "    print(\"----\")"
   ],
   "metadata": {
    "collapsed": false,
    "ExecuteTime": {
     "end_time": "2024-08-24T18:27:32.670784Z",
     "start_time": "2024-08-24T18:27:31.563109Z"
    }
   },
   "id": "f4ba6ff686a2801e",
   "execution_count": 30
  },
  {
   "cell_type": "code",
   "outputs": [],
   "source": [],
   "metadata": {
    "collapsed": false
   },
   "id": "88e460ffdce483ba"
  }
 ],
 "metadata": {
  "kernelspec": {
   "display_name": "Python 3",
   "language": "python",
   "name": "python3"
  },
  "language_info": {
   "codemirror_mode": {
    "name": "ipython",
    "version": 2
   },
   "file_extension": ".py",
   "mimetype": "text/x-python",
   "name": "python",
   "nbconvert_exporter": "python",
   "pygments_lexer": "ipython2",
   "version": "2.7.6"
  }
 },
 "nbformat": 4,
 "nbformat_minor": 5
}
