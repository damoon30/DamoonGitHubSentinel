{
 "cells": [
  {
   "cell_type": "code",
   "execution_count": 1,
   "id": "initial_id",
   "metadata": {
    "collapsed": true,
    "ExecuteTime": {
     "end_time": "2024-08-24T15:41:14.882305Z",
     "start_time": "2024-08-24T15:41:11.958900Z"
    }
   },
   "outputs": [
    {
     "name": "stdout",
     "output_type": "stream",
     "text": [
      "Collecting langgraph\r\n",
      "  Downloading langgraph-0.2.14-py3-none-any.whl.metadata (13 kB)\r\n",
      "Requirement already satisfied: langsmith in /Users/fangwen/classProject/DamoonGitHubSentinel/.venv/lib/python3.12/site-packages (0.1.99)\r\n",
      "Collecting langsmith\r\n",
      "  Downloading langsmith-0.1.104-py3-none-any.whl.metadata (13 kB)\r\n",
      "Requirement already satisfied: langchain-core<0.3,>=0.2.27 in /Users/fangwen/classProject/DamoonGitHubSentinel/.venv/lib/python3.12/site-packages (from langgraph) (0.2.33)\r\n",
      "Collecting langgraph-checkpoint<2.0.0,>=1.0.2 (from langgraph)\r\n",
      "  Downloading langgraph_checkpoint-1.0.6-py3-none-any.whl.metadata (4.5 kB)\r\n",
      "Requirement already satisfied: httpx<1,>=0.23.0 in /Users/fangwen/classProject/DamoonGitHubSentinel/.venv/lib/python3.12/site-packages (from langsmith) (0.27.0)\r\n",
      "Requirement already satisfied: orjson<4.0.0,>=3.9.14 in /Users/fangwen/classProject/DamoonGitHubSentinel/.venv/lib/python3.12/site-packages (from langsmith) (3.10.7)\r\n",
      "Requirement already satisfied: pydantic<3.0.0,>=2.7.4 in /Users/fangwen/classProject/DamoonGitHubSentinel/.venv/lib/python3.12/site-packages (from langsmith) (2.8.2)\r\n",
      "Requirement already satisfied: requests<3,>=2 in /Users/fangwen/classProject/DamoonGitHubSentinel/.venv/lib/python3.12/site-packages (from langsmith) (2.32.3)\r\n",
      "Requirement already satisfied: anyio in /Users/fangwen/classProject/DamoonGitHubSentinel/.venv/lib/python3.12/site-packages (from httpx<1,>=0.23.0->langsmith) (4.4.0)\r\n",
      "Requirement already satisfied: certifi in /Users/fangwen/classProject/DamoonGitHubSentinel/.venv/lib/python3.12/site-packages (from httpx<1,>=0.23.0->langsmith) (2024.7.4)\r\n",
      "Requirement already satisfied: httpcore==1.* in /Users/fangwen/classProject/DamoonGitHubSentinel/.venv/lib/python3.12/site-packages (from httpx<1,>=0.23.0->langsmith) (1.0.5)\r\n",
      "Requirement already satisfied: idna in /Users/fangwen/classProject/DamoonGitHubSentinel/.venv/lib/python3.12/site-packages (from httpx<1,>=0.23.0->langsmith) (3.7)\r\n",
      "Requirement already satisfied: sniffio in /Users/fangwen/classProject/DamoonGitHubSentinel/.venv/lib/python3.12/site-packages (from httpx<1,>=0.23.0->langsmith) (1.3.1)\r\n",
      "Requirement already satisfied: h11<0.15,>=0.13 in /Users/fangwen/classProject/DamoonGitHubSentinel/.venv/lib/python3.12/site-packages (from httpcore==1.*->httpx<1,>=0.23.0->langsmith) (0.14.0)\r\n",
      "Requirement already satisfied: PyYAML>=5.3 in /Users/fangwen/classProject/DamoonGitHubSentinel/.venv/lib/python3.12/site-packages (from langchain-core<0.3,>=0.2.27->langgraph) (6.0.2)\r\n",
      "Requirement already satisfied: jsonpatch<2.0,>=1.33 in /Users/fangwen/classProject/DamoonGitHubSentinel/.venv/lib/python3.12/site-packages (from langchain-core<0.3,>=0.2.27->langgraph) (1.33)\r\n",
      "Requirement already satisfied: packaging<25,>=23.2 in /Users/fangwen/classProject/DamoonGitHubSentinel/.venv/lib/python3.12/site-packages (from langchain-core<0.3,>=0.2.27->langgraph) (24.1)\r\n",
      "Requirement already satisfied: tenacity!=8.4.0,<9.0.0,>=8.1.0 in /Users/fangwen/classProject/DamoonGitHubSentinel/.venv/lib/python3.12/site-packages (from langchain-core<0.3,>=0.2.27->langgraph) (8.5.0)\r\n",
      "Requirement already satisfied: typing-extensions>=4.7 in /Users/fangwen/classProject/DamoonGitHubSentinel/.venv/lib/python3.12/site-packages (from langchain-core<0.3,>=0.2.27->langgraph) (4.12.2)\r\n",
      "Requirement already satisfied: annotated-types>=0.4.0 in /Users/fangwen/classProject/DamoonGitHubSentinel/.venv/lib/python3.12/site-packages (from pydantic<3.0.0,>=2.7.4->langsmith) (0.7.0)\r\n",
      "Requirement already satisfied: pydantic-core==2.20.1 in /Users/fangwen/classProject/DamoonGitHubSentinel/.venv/lib/python3.12/site-packages (from pydantic<3.0.0,>=2.7.4->langsmith) (2.20.1)\r\n",
      "Requirement already satisfied: charset-normalizer<4,>=2 in /Users/fangwen/classProject/DamoonGitHubSentinel/.venv/lib/python3.12/site-packages (from requests<3,>=2->langsmith) (3.3.2)\r\n",
      "Requirement already satisfied: urllib3<3,>=1.21.1 in /Users/fangwen/classProject/DamoonGitHubSentinel/.venv/lib/python3.12/site-packages (from requests<3,>=2->langsmith) (2.2.2)\r\n",
      "Requirement already satisfied: jsonpointer>=1.9 in /Users/fangwen/classProject/DamoonGitHubSentinel/.venv/lib/python3.12/site-packages (from jsonpatch<2.0,>=1.33->langchain-core<0.3,>=0.2.27->langgraph) (3.0.0)\r\n",
      "Downloading langgraph-0.2.14-py3-none-any.whl (87 kB)\r\n",
      "\u001B[2K   \u001B[90m━━━━━━━━━━━━━━━━━━━━━━━━━━━━━━━━━━━━━━━━\u001B[0m \u001B[32m87.7/87.7 kB\u001B[0m \u001B[31m921.7 kB/s\u001B[0m eta \u001B[36m0:00:00\u001B[0m\u001B[36m0:00:01\u001B[0m0m\r\n",
      "\u001B[?25hDownloading langsmith-0.1.104-py3-none-any.whl (149 kB)\r\n",
      "\u001B[2K   \u001B[90m━━━━━━━━━━━━━━━━━━━━━━━━━━━━━━━━━━━━━━━━\u001B[0m \u001B[32m149.1/149.1 kB\u001B[0m \u001B[31m1.9 MB/s\u001B[0m eta \u001B[36m0:00:00\u001B[0m \u001B[36m0:00:01\u001B[0m\r\n",
      "\u001B[?25hDownloading langgraph_checkpoint-1.0.6-py3-none-any.whl (15 kB)\r\n",
      "Installing collected packages: langsmith, langgraph-checkpoint, langgraph\r\n",
      "  Attempting uninstall: langsmith\r\n",
      "    Found existing installation: langsmith 0.1.99\r\n",
      "    Uninstalling langsmith-0.1.99:\r\n",
      "      Successfully uninstalled langsmith-0.1.99\r\n",
      "Successfully installed langgraph-0.2.14 langgraph-checkpoint-1.0.6 langsmith-0.1.104\r\n",
      "\r\n",
      "\u001B[1m[\u001B[0m\u001B[34;49mnotice\u001B[0m\u001B[1;39;49m]\u001B[0m\u001B[39;49m A new release of pip is available: \u001B[0m\u001B[31;49m24.0\u001B[0m\u001B[39;49m -> \u001B[0m\u001B[32;49m24.2\u001B[0m\r\n",
      "\u001B[1m[\u001B[0m\u001B[34;49mnotice\u001B[0m\u001B[1;39;49m]\u001B[0m\u001B[39;49m To update, run: \u001B[0m\u001B[32;49mpip install --upgrade pip\u001B[0m\r\n"
     ]
    }
   ],
   "source": [
    "!pip install -U langgraph langsmith\n"
   ]
  },
  {
   "cell_type": "code",
   "outputs": [
    {
     "name": "stdout",
     "output_type": "stream",
     "text": [
      "Collecting langchain_anthropic\r\n",
      "  Downloading langchain_anthropic-0.1.23-py3-none-any.whl.metadata (2.2 kB)\r\n",
      "Collecting anthropic<1,>=0.30.0 (from langchain_anthropic)\r\n",
      "  Downloading anthropic-0.34.1-py3-none-any.whl.metadata (18 kB)\r\n",
      "Requirement already satisfied: defusedxml<0.8.0,>=0.7.1 in /Users/fangwen/classProject/DamoonGitHubSentinel/.venv/lib/python3.12/site-packages (from langchain_anthropic) (0.7.1)\r\n",
      "Requirement already satisfied: langchain-core<0.3.0,>=0.2.26 in /Users/fangwen/classProject/DamoonGitHubSentinel/.venv/lib/python3.12/site-packages (from langchain_anthropic) (0.2.33)\r\n",
      "Requirement already satisfied: anyio<5,>=3.5.0 in /Users/fangwen/classProject/DamoonGitHubSentinel/.venv/lib/python3.12/site-packages (from anthropic<1,>=0.30.0->langchain_anthropic) (4.4.0)\r\n",
      "Requirement already satisfied: distro<2,>=1.7.0 in /Users/fangwen/classProject/DamoonGitHubSentinel/.venv/lib/python3.12/site-packages (from anthropic<1,>=0.30.0->langchain_anthropic) (1.9.0)\r\n",
      "Requirement already satisfied: httpx<1,>=0.23.0 in /Users/fangwen/classProject/DamoonGitHubSentinel/.venv/lib/python3.12/site-packages (from anthropic<1,>=0.30.0->langchain_anthropic) (0.27.0)\r\n",
      "Requirement already satisfied: jiter<1,>=0.4.0 in /Users/fangwen/classProject/DamoonGitHubSentinel/.venv/lib/python3.12/site-packages (from anthropic<1,>=0.30.0->langchain_anthropic) (0.5.0)\r\n",
      "Requirement already satisfied: pydantic<3,>=1.9.0 in /Users/fangwen/classProject/DamoonGitHubSentinel/.venv/lib/python3.12/site-packages (from anthropic<1,>=0.30.0->langchain_anthropic) (2.8.2)\r\n",
      "Requirement already satisfied: sniffio in /Users/fangwen/classProject/DamoonGitHubSentinel/.venv/lib/python3.12/site-packages (from anthropic<1,>=0.30.0->langchain_anthropic) (1.3.1)\r\n",
      "Collecting tokenizers>=0.13.0 (from anthropic<1,>=0.30.0->langchain_anthropic)\r\n",
      "  Downloading tokenizers-0.20.0-cp312-cp312-macosx_11_0_arm64.whl.metadata (6.7 kB)\r\n",
      "Requirement already satisfied: typing-extensions<5,>=4.7 in /Users/fangwen/classProject/DamoonGitHubSentinel/.venv/lib/python3.12/site-packages (from anthropic<1,>=0.30.0->langchain_anthropic) (4.12.2)\r\n",
      "Requirement already satisfied: PyYAML>=5.3 in /Users/fangwen/classProject/DamoonGitHubSentinel/.venv/lib/python3.12/site-packages (from langchain-core<0.3.0,>=0.2.26->langchain_anthropic) (6.0.2)\r\n",
      "Requirement already satisfied: jsonpatch<2.0,>=1.33 in /Users/fangwen/classProject/DamoonGitHubSentinel/.venv/lib/python3.12/site-packages (from langchain-core<0.3.0,>=0.2.26->langchain_anthropic) (1.33)\r\n",
      "Requirement already satisfied: langsmith<0.2.0,>=0.1.75 in /Users/fangwen/classProject/DamoonGitHubSentinel/.venv/lib/python3.12/site-packages (from langchain-core<0.3.0,>=0.2.26->langchain_anthropic) (0.1.104)\r\n",
      "Requirement already satisfied: packaging<25,>=23.2 in /Users/fangwen/classProject/DamoonGitHubSentinel/.venv/lib/python3.12/site-packages (from langchain-core<0.3.0,>=0.2.26->langchain_anthropic) (24.1)\r\n",
      "Requirement already satisfied: tenacity!=8.4.0,<9.0.0,>=8.1.0 in /Users/fangwen/classProject/DamoonGitHubSentinel/.venv/lib/python3.12/site-packages (from langchain-core<0.3.0,>=0.2.26->langchain_anthropic) (8.5.0)\r\n",
      "Requirement already satisfied: idna>=2.8 in /Users/fangwen/classProject/DamoonGitHubSentinel/.venv/lib/python3.12/site-packages (from anyio<5,>=3.5.0->anthropic<1,>=0.30.0->langchain_anthropic) (3.7)\r\n",
      "Requirement already satisfied: certifi in /Users/fangwen/classProject/DamoonGitHubSentinel/.venv/lib/python3.12/site-packages (from httpx<1,>=0.23.0->anthropic<1,>=0.30.0->langchain_anthropic) (2024.7.4)\r\n",
      "Requirement already satisfied: httpcore==1.* in /Users/fangwen/classProject/DamoonGitHubSentinel/.venv/lib/python3.12/site-packages (from httpx<1,>=0.23.0->anthropic<1,>=0.30.0->langchain_anthropic) (1.0.5)\r\n",
      "Requirement already satisfied: h11<0.15,>=0.13 in /Users/fangwen/classProject/DamoonGitHubSentinel/.venv/lib/python3.12/site-packages (from httpcore==1.*->httpx<1,>=0.23.0->anthropic<1,>=0.30.0->langchain_anthropic) (0.14.0)\r\n",
      "Requirement already satisfied: jsonpointer>=1.9 in /Users/fangwen/classProject/DamoonGitHubSentinel/.venv/lib/python3.12/site-packages (from jsonpatch<2.0,>=1.33->langchain-core<0.3.0,>=0.2.26->langchain_anthropic) (3.0.0)\r\n",
      "Requirement already satisfied: orjson<4.0.0,>=3.9.14 in /Users/fangwen/classProject/DamoonGitHubSentinel/.venv/lib/python3.12/site-packages (from langsmith<0.2.0,>=0.1.75->langchain-core<0.3.0,>=0.2.26->langchain_anthropic) (3.10.7)\r\n",
      "Requirement already satisfied: requests<3,>=2 in /Users/fangwen/classProject/DamoonGitHubSentinel/.venv/lib/python3.12/site-packages (from langsmith<0.2.0,>=0.1.75->langchain-core<0.3.0,>=0.2.26->langchain_anthropic) (2.32.3)\r\n",
      "Requirement already satisfied: annotated-types>=0.4.0 in /Users/fangwen/classProject/DamoonGitHubSentinel/.venv/lib/python3.12/site-packages (from pydantic<3,>=1.9.0->anthropic<1,>=0.30.0->langchain_anthropic) (0.7.0)\r\n",
      "Requirement already satisfied: pydantic-core==2.20.1 in /Users/fangwen/classProject/DamoonGitHubSentinel/.venv/lib/python3.12/site-packages (from pydantic<3,>=1.9.0->anthropic<1,>=0.30.0->langchain_anthropic) (2.20.1)\r\n",
      "Requirement already satisfied: huggingface-hub<1.0,>=0.16.4 in /Users/fangwen/classProject/DamoonGitHubSentinel/.venv/lib/python3.12/site-packages (from tokenizers>=0.13.0->anthropic<1,>=0.30.0->langchain_anthropic) (0.24.5)\r\n",
      "Requirement already satisfied: filelock in /Users/fangwen/classProject/DamoonGitHubSentinel/.venv/lib/python3.12/site-packages (from huggingface-hub<1.0,>=0.16.4->tokenizers>=0.13.0->anthropic<1,>=0.30.0->langchain_anthropic) (3.15.4)\r\n",
      "Requirement already satisfied: fsspec>=2023.5.0 in /Users/fangwen/classProject/DamoonGitHubSentinel/.venv/lib/python3.12/site-packages (from huggingface-hub<1.0,>=0.16.4->tokenizers>=0.13.0->anthropic<1,>=0.30.0->langchain_anthropic) (2024.6.1)\r\n",
      "Requirement already satisfied: tqdm>=4.42.1 in /Users/fangwen/classProject/DamoonGitHubSentinel/.venv/lib/python3.12/site-packages (from huggingface-hub<1.0,>=0.16.4->tokenizers>=0.13.0->anthropic<1,>=0.30.0->langchain_anthropic) (4.66.5)\r\n",
      "Requirement already satisfied: charset-normalizer<4,>=2 in /Users/fangwen/classProject/DamoonGitHubSentinel/.venv/lib/python3.12/site-packages (from requests<3,>=2->langsmith<0.2.0,>=0.1.75->langchain-core<0.3.0,>=0.2.26->langchain_anthropic) (3.3.2)\r\n",
      "Requirement already satisfied: urllib3<3,>=1.21.1 in /Users/fangwen/classProject/DamoonGitHubSentinel/.venv/lib/python3.12/site-packages (from requests<3,>=2->langsmith<0.2.0,>=0.1.75->langchain-core<0.3.0,>=0.2.26->langchain_anthropic) (2.2.2)\r\n",
      "Downloading langchain_anthropic-0.1.23-py3-none-any.whl (21 kB)\r\n",
      "Downloading anthropic-0.34.1-py3-none-any.whl (891 kB)\r\n",
      "\u001B[2K   \u001B[90m━━━━━━━━━━━━━━━━━━━━━━━━━━━━━━━━━━━━━━━━\u001B[0m \u001B[32m891.5/891.5 kB\u001B[0m \u001B[31m4.0 MB/s\u001B[0m eta \u001B[36m0:00:00\u001B[0m00:01\u001B[0m00:01\u001B[0m\r\n",
      "\u001B[?25hDownloading tokenizers-0.20.0-cp312-cp312-macosx_11_0_arm64.whl (2.5 MB)\r\n",
      "\u001B[2K   \u001B[90m━━━━━━━━━━━━━━━━━━━━━━━━━━━━━━━━━━━━━━━━\u001B[0m \u001B[32m2.5/2.5 MB\u001B[0m \u001B[31m22.2 MB/s\u001B[0m eta \u001B[36m0:00:00\u001B[0m00:01\u001B[0m00:01\u001B[0m\r\n",
      "\u001B[?25hInstalling collected packages: tokenizers, anthropic, langchain_anthropic\r\n",
      "Successfully installed anthropic-0.34.1 langchain_anthropic-0.1.23 tokenizers-0.20.0\r\n",
      "\r\n",
      "\u001B[1m[\u001B[0m\u001B[34;49mnotice\u001B[0m\u001B[1;39;49m]\u001B[0m\u001B[39;49m A new release of pip is available: \u001B[0m\u001B[31;49m24.0\u001B[0m\u001B[39;49m -> \u001B[0m\u001B[32;49m24.2\u001B[0m\r\n",
      "\u001B[1m[\u001B[0m\u001B[34;49mnotice\u001B[0m\u001B[1;39;49m]\u001B[0m\u001B[39;49m To update, run: \u001B[0m\u001B[32;49mpip install --upgrade pip\u001B[0m\r\n"
     ]
    }
   ],
   "source": [
    "!pip install -U langchain_anthropic"
   ],
   "metadata": {
    "collapsed": false,
    "ExecuteTime": {
     "end_time": "2024-08-24T15:41:32.909400Z",
     "start_time": "2024-08-24T15:41:29.399781Z"
    }
   },
   "id": "a1ca38fa9542d9f0",
   "execution_count": 2
  },
  {
   "cell_type": "code",
   "outputs": [
    {
     "name": "stdout",
     "output_type": "stream",
     "text": [
      "Running on local URL:  http://127.0.0.1:7866\n",
      "\n",
      "To create a public link, set `share=True` in `launch()`.\n"
     ]
    },
    {
     "data": {
      "text/plain": "<IPython.core.display.HTML object>",
      "text/html": "<div><iframe src=\"http://127.0.0.1:7866/\" width=\"100%\" height=\"500\" allow=\"autoplay; camera; microphone; clipboard-read; clipboard-write;\" frameborder=\"0\" allowfullscreen></iframe></div>"
     },
     "metadata": {},
     "output_type": "display_data"
    }
   ],
   "source": [
    "import gradio as gr\n",
    "from langchain_anthropic import ChatAnthropic\n",
    "\n",
    "llm = ChatAnthropic(model=\"claude-3-haiku-20240307\")\n",
    "\n",
    "def predict(message, history):\n",
    "    print(message)\n",
    "    return \"123\"\n",
    "\n",
    "\n",
    "demo = gr.ChatInterface(predict).launch()"
   ],
   "metadata": {
    "collapsed": false,
    "ExecuteTime": {
     "end_time": "2024-08-24T15:47:15.748278Z",
     "start_time": "2024-08-24T15:47:15.606230Z"
    }
   },
   "id": "976892d8f019cbd3",
   "execution_count": 4
  },
  {
   "cell_type": "code",
   "outputs": [],
   "source": [],
   "metadata": {
    "collapsed": false
   },
   "id": "a7038e199ba4e96d"
  }
 ],
 "metadata": {
  "kernelspec": {
   "display_name": "Python 3",
   "language": "python",
   "name": "python3"
  },
  "language_info": {
   "codemirror_mode": {
    "name": "ipython",
    "version": 2
   },
   "file_extension": ".py",
   "mimetype": "text/x-python",
   "name": "python",
   "nbconvert_exporter": "python",
   "pygments_lexer": "ipython2",
   "version": "2.7.6"
  }
 },
 "nbformat": 4,
 "nbformat_minor": 5
}
