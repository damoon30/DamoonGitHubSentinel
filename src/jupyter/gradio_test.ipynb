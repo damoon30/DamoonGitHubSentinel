{
 "cells": [
  {
   "cell_type": "code",
   "execution_count": null,
   "id": "initial_id",
   "metadata": {
    "collapsed": true
   },
   "outputs": [],
   "source": [
    "import gradio as gr\n",
    "\n",
    "def greet(name, intensity):\n",
    "    return \"Hello, \" + name + \"!\" * int(intensity)\n",
    "\n",
    "demo = gr.Interface(\n",
    "    fn=greet,\n",
    "    inputs=[\"text\", \"slider\"],\n",
    "    outputs=[\"text\"],\n",
    ")\n",
    "\n",
    "demo.launch()\n"
   ]
  },
  {
   "cell_type": "code",
   "outputs": [],
   "source": [
    "import random\n",
    "import gradio as gr\n",
    "\n",
    "def alternatingly_agree(message, history):\n",
    "    if len(history) % 2 == 0:\n",
    "        return f\"Yes, I do think that '{message}'\"\n",
    "    else:\n",
    "        return \"I don't think so\"\n",
    "\n",
    "gr.ChatInterface(alternatingly_agree).launch()"
   ],
   "metadata": {
    "collapsed": false
   },
   "id": "6b36c4a20760064",
   "execution_count": null
  },
  {
   "cell_type": "code",
   "outputs": [],
   "source": [
    "import time\n",
    "import gradio as gr\n",
    "\n",
    "def slow_echo(message, history):\n",
    "    for i in range(len(message)):\n",
    "        time.sleep(0.3)\n",
    "        yield \"You typed: \" + message[: i+1]\n",
    "\n",
    "gr.ChatInterface(slow_echo).launch()"
   ],
   "metadata": {
    "collapsed": false
   },
   "id": "50b86893c3c1c59",
   "execution_count": null
  },
  {
   "cell_type": "code",
   "outputs": [],
   "source": [
    "import gradio as gr\n",
    "\n",
    "def yes_man(message, history):\n",
    "    if message.endswith(\"?\"):\n",
    "        return \"Yes\"\n",
    "    else:\n",
    "        return \"Ask me anything!\"\n",
    "\n",
    "gr.ChatInterface(\n",
    "    yes_man,\n",
    "    chatbot=gr.Chatbot(height=300),\n",
    "    textbox=gr.Textbox(placeholder=\"Ask me a yes or no question\", container=False, scale=7),\n",
    "    title=\"Yes Man\",\n",
    "    description=\"Ask Yes Man any question\",\n",
    "    theme=\"soft\",\n",
    "    examples=[\"Hello\", \"Am I cool?\", \"Are tomatoes vegetables?\"],\n",
    "    cache_examples=True,\n",
    "    retry_btn=None,\n",
    "    undo_btn=\"Delete Previous\",\n",
    "    clear_btn=\"Clear\",\n",
    ").launch()"
   ],
   "metadata": {
    "collapsed": false
   },
   "id": "3891f7ce61c52905",
   "execution_count": null
  },
  {
   "cell_type": "code",
   "outputs": [],
   "source": [
    "import gradio as gr\n",
    "\n",
    "def fake(message, history):\n",
    "    if message.strip():\n",
    "        return gr.Audio(\"https://github.com/gradio-app/gradio/raw/main/test/test_files/audio_sample.wav\")\n",
    "    else:\n",
    "        return \"Please provide the name of an artist\"\n",
    "\n",
    "gr.ChatInterface(\n",
    "    fake, \n",
    "    textbox=gr.Textbox(placeholder=\"Which artist's music do you want to listen to?\", scale=7),\n",
    "    chatbot=gr.Chatbot(placeholder=\"Play music by any artist!\"),\n",
    ").launch()"
   ],
   "metadata": {
    "collapsed": false
   },
   "id": "12698f9eb025fb33",
   "execution_count": null
  },
  {
   "cell_type": "code",
   "outputs": [],
   "source": [
    "from openai import OpenAI\n",
    "import gradio as gr\n",
    "import os\n",
    "\n",
    "api_key = \"sk-...\"  # Replace with your key\n",
    "client = OpenAI(api_key=os.environ['OPENAI_API_KEY'], base_url=os.environ['OPENAI_API_BASE'])\n",
    "\n",
    "def predict(message, history):\n",
    "    history_openai_format = []\n",
    "    for human, assistant in history:\n",
    "        history_openai_format.append({\"role\": \"user\", \"content\": human })\n",
    "        history_openai_format.append({\"role\": \"assistant\", \"content\":assistant})\n",
    "    history_openai_format.append({\"role\": \"user\", \"content\": message})\n",
    "    print(history_openai_format)\n",
    "    response = client.chat.completions.(model='gpt-4o',\n",
    "    messages= history_openai_format,\n",
    "    temperature=0,\n",
    "    stream=True)\n",
    "\n",
    "    partial_message = \"\"\n",
    "    for chunk in response:\n",
    "        if chunk.choices[0].delta.content is not None:\n",
    "              partial_message = partial_message + chunk.choices[0].delta.content\n",
    "              yield partial_message\n",
    "\n",
    "gr.ChatInterface(predict).launch()"
   ],
   "metadata": {
    "collapsed": false
   },
   "id": "9b417916cd2d3188",
   "execution_count": null
  },
  {
   "cell_type": "code",
   "outputs": [],
   "source": [
    "import gradio as gr\n",
    "\n",
    "def greet(name, is_morning, temperature):\n",
    "    salutation = \"Good morning\" if is_morning else \"Good evening\"\n",
    "    greeting = f\"{salutation} {name}. It is {temperature} degrees today\"\n",
    "    celsius = (temperature - 32) * 5 / 9\n",
    "    return greeting, round(celsius, 2)\n",
    "\n",
    "demo = gr.Interface(\n",
    "    fn=greet,\n",
    "    title=\"GitHubSentinel\",\n",
    "    description=\"this is a very intelligence tool\",\n",
    "    inputs=[\n",
    "        gr.Dropdown(\n",
    "            [1,2,3], label=\"订阅列表\", info=\"已订阅GitHub项目\"\n",
    "        ),\n",
    "        gr.Radio([\"add\", \"subtract\", \"multiply\", \"divide\"]),\n",
    "        gr.Slider(value=2, minimum=1, maximum=7, step=1, label=\"报告周期\", info=\"生成项目过去一段时间进展，单位：天\"),\n",
    "        \n",
    "    ],\n",
    "    outputs=[gr.Markdown(), gr.File(label=\"下载报告\")],\n",
    ")\n",
    "demo.launch()\n"
   ],
   "metadata": {
    "collapsed": false
   },
   "id": "52739efe21353dd4",
   "execution_count": null
  },
  {
   "cell_type": "code",
   "outputs": [],
   "source": [
    "import time\n",
    "\n",
    "import gradio as gr\n",
    "\n",
    "def fake_gan():\n",
    "    time.sleep(1)\n",
    "    images = [\n",
    "            \"https://images.unsplash.com/photo-1507003211169-0a1dd7228f2d?ixlib=rb-1.2.1&ixid=MnwxMjA3fDB8MHxwaG90by1wYWdlfHx8fGVufDB8fHx8&auto=format&fit=crop&w=387&q=80\",\n",
    "            \"https://images.unsplash.com/photo-1554151228-14d9def656e4?ixlib=rb-1.2.1&ixid=MnwxMjA3fDB8MHxwaG90by1wYWdlfHx8fGVufDB8fHx8&auto=format&fit=crop&w=386&q=80\",\n",
    "            \"https://images.unsplash.com/photo-1542909168-82c3e7fdca5c?ixlib=rb-1.2.1&ixid=MnwxMjA3fDB8MHxzZWFyY2h8MXx8aHVtYW4lMjBmYWNlfGVufDB8fDB8fA%3D%3D&w=1000&q=80\",\n",
    "    ]\n",
    "    return images\n",
    "\n",
    "demo = gr.Interface(\n",
    "    fn=fake_gan,\n",
    "    inputs=None,\n",
    "    outputs=gr.Gallery(label=\"Generated Images\", columns=[2]),\n",
    "    title=\"FD-GAN\",\n",
    "    description=\"This is a fake demo of a GAN. In reality, the images are randomly chosen from Unsplash.\",\n",
    ")\n",
    "\n",
    "demo.launch()\n"
   ],
   "metadata": {
    "collapsed": false
   },
   "id": "daef696a15aea1e1",
   "execution_count": null
  },
  {
   "cell_type": "code",
   "outputs": [],
   "source": [
    "import gradio as gr\n",
    "\n",
    "def greet(name):\n",
    "    return \"Hello \" + name + \"!\"\n",
    "\n",
    "with gr.Blocks() as demo:\n",
    "    name = gr.Textbox(label=\"Name\")\n",
    "    output = gr.Textbox(label=\"Output Box\")\n",
    "    greet_btn = gr.Button(\"Greet\")\n",
    "    greet_btn.click(fn=greet, inputs=name, outputs=output, api_name=\"greet\")\n",
    "\n",
    "demo.launch()\n"
   ],
   "metadata": {
    "collapsed": false
   },
   "id": "2aca7d56b7783204",
   "execution_count": null
  },
  {
   "cell_type": "code",
   "outputs": [],
   "source": [
    "import gradio as gr\n",
    "\n",
    "def welcome(name):\n",
    "    return f\"Welcome to Gradio, {name}!\"\n",
    "\n",
    "with gr.Blocks() as demo:\n",
    "    gr.Markdown(\n",
    "    \"\"\"\n",
    "    # Hello World!\n",
    "    Start typing below to see the output.\n",
    "    \"\"\")\n",
    "    inp = gr.Textbox(placeholder=\"What is your name?\")\n",
    "    out = gr.Textbox()\n",
    "    inp.change(welcome, inp, out)\n",
    "\n",
    "demo.launch()\n"
   ],
   "metadata": {
    "collapsed": false
   },
   "id": "4ae831a50ed7f48e",
   "execution_count": null
  },
  {
   "cell_type": "code",
   "outputs": [
    {
     "name": "stdout",
     "output_type": "stream",
     "text": [
      "Running on local URL:  http://127.0.0.1:7909\n"
     ]
    },
    {
     "ename": "ValueError",
     "evalue": "When localhost is not accessible, a shareable link must be created. Please set share=True or check your proxy settings to allow access to localhost.",
     "output_type": "error",
     "traceback": [
      "\u001B[0;31m---------------------------------------------------------------------------\u001B[0m",
      "\u001B[0;31mValueError\u001B[0m                                Traceback (most recent call last)",
      "Cell \u001B[0;32mIn[22], line 32\u001B[0m\n\u001B[1;32m     29\u001B[0m     view_button\u001B[38;5;241m.\u001B[39mclick(flip_text, inputs\u001B[38;5;241m=\u001B[39m[view_input1, view_input2], outputs\u001B[38;5;241m=\u001B[39m[view_output1, view_output2])\n\u001B[1;32m     30\u001B[0m     image_button\u001B[38;5;241m.\u001B[39mclick(flip_image, inputs\u001B[38;5;241m=\u001B[39m[project_name, operate], outputs\u001B[38;5;241m=\u001B[39mimage_output)\n\u001B[0;32m---> 32\u001B[0m \u001B[43mdemo\u001B[49m\u001B[38;5;241;43m.\u001B[39;49m\u001B[43mlaunch\u001B[49m\u001B[43m(\u001B[49m\u001B[43mshare\u001B[49m\u001B[38;5;241;43m=\u001B[39;49m\u001B[38;5;28;43;01mFalse\u001B[39;49;00m\u001B[43m)\u001B[49m\n",
      "File \u001B[0;32m~/classProject/DamoonGitHubSentinel/.venv/lib/python3.12/site-packages/gradio/blocks.py:2456\u001B[0m, in \u001B[0;36mBlocks.launch\u001B[0;34m(self, inline, inbrowser, share, debug, max_threads, auth, auth_message, prevent_thread_lock, show_error, server_name, server_port, height, width, favicon_path, ssl_keyfile, ssl_certfile, ssl_keyfile_password, ssl_verify, quiet, show_api, allowed_paths, blocked_paths, root_path, app_kwargs, state_session_capacity, share_server_address, share_server_protocol, auth_dependency, max_file_size, _frontend, enable_monitoring)\u001B[0m\n\u001B[1;32m   2448\u001B[0m \u001B[38;5;66;03m# If running in a colab or not able to access localhost,\u001B[39;00m\n\u001B[1;32m   2449\u001B[0m \u001B[38;5;66;03m# a shareable link must be created.\u001B[39;00m\n\u001B[1;32m   2450\u001B[0m \u001B[38;5;28;01mif\u001B[39;00m (\n\u001B[1;32m   2451\u001B[0m     _frontend\n\u001B[1;32m   2452\u001B[0m     \u001B[38;5;129;01mand\u001B[39;00m \u001B[38;5;129;01mnot\u001B[39;00m wasm_utils\u001B[38;5;241m.\u001B[39mIS_WASM\n\u001B[1;32m   2453\u001B[0m     \u001B[38;5;129;01mand\u001B[39;00m \u001B[38;5;129;01mnot\u001B[39;00m networking\u001B[38;5;241m.\u001B[39murl_ok(\u001B[38;5;28mself\u001B[39m\u001B[38;5;241m.\u001B[39mlocal_url)\n\u001B[1;32m   2454\u001B[0m     \u001B[38;5;129;01mand\u001B[39;00m \u001B[38;5;129;01mnot\u001B[39;00m \u001B[38;5;28mself\u001B[39m\u001B[38;5;241m.\u001B[39mshare\n\u001B[1;32m   2455\u001B[0m ):\n\u001B[0;32m-> 2456\u001B[0m     \u001B[38;5;28;01mraise\u001B[39;00m \u001B[38;5;167;01mValueError\u001B[39;00m(\n\u001B[1;32m   2457\u001B[0m         \u001B[38;5;124m\"\u001B[39m\u001B[38;5;124mWhen localhost is not accessible, a shareable link must be created. Please set share=True or check your proxy settings to allow access to localhost.\u001B[39m\u001B[38;5;124m\"\u001B[39m\n\u001B[1;32m   2458\u001B[0m     )\n\u001B[1;32m   2460\u001B[0m \u001B[38;5;28;01mif\u001B[39;00m \u001B[38;5;28mself\u001B[39m\u001B[38;5;241m.\u001B[39mis_colab \u001B[38;5;129;01mand\u001B[39;00m \u001B[38;5;129;01mnot\u001B[39;00m quiet:\n\u001B[1;32m   2461\u001B[0m     \u001B[38;5;28;01mif\u001B[39;00m debug:\n",
      "\u001B[0;31mValueError\u001B[0m: When localhost is not accessible, a shareable link must be created. Please set share=True or check your proxy settings to allow access to localhost."
     ]
    }
   ],
   "source": [
    "import numpy as np\n",
    "import gradio as gr\n",
    "\n",
    "def flip_text(x, y):\n",
    "    return f\"###{x}\", \"https://images.unsplash.com/photo-1507003211169-0a1dd7228f2d?ixlib=rb-1.2.1&ixid=MnwxMjA3fDB8MHxwaG90by1wYWdlfHx8fGVufDB8fHx8&auto=format&fit=crop&w=387&q=80\"\n",
    "def flip_image(x, y):\n",
    "    print(x)\n",
    "    return \"ok\"\n",
    "\n",
    "with gr.Blocks() as demo:\n",
    "    gr.Markdown(\"view the Github Sentinel or manage the Github Sentinel using this tab.\")\n",
    "    with gr.Tab(\"view the Github Sentinel\"):\n",
    "        with gr.Row():\n",
    "            with gr.Column():\n",
    "                view_input1 = gr.Dropdown([\"project-1\",\"project-2\",\"project-3\"], label=\"订阅列表\", info=\"已订阅GitHub项目\")\n",
    "                view_input2 = gr.Slider(value=2, minimum=1, maximum=7, step=1, label=\"报告周期\", info=\"生成项目过去一段时间进展，单位：天\")\n",
    "            with gr.Column():\n",
    "                view_output1 = gr.Markdown()\n",
    "                view_output2 = gr.File(label=\"下载报告\")\n",
    "        view_button = gr.Button(\"view\")\n",
    "    with gr.Tab(\"manage the Github Sentinel\"):\n",
    "        with gr.Row():\n",
    "            with gr.Column():\n",
    "                project_name = gr.Dropdown([\"project-1\",\"project-2\",\"project-3\"], label=\"请输入项目\", info=\"格式参考：ollama/ollama\", allow_custom_value=True)\n",
    "                operate = gr.Radio([\"add\", \"remove\"])\n",
    "            image_output = gr.Textbox(label=\"Output\")\n",
    "        image_button = gr.Button(\"operate\")\n",
    "\n",
    "    view_button.click(flip_text, inputs=[view_input1, view_input2], outputs=[view_output1, view_output2])\n",
    "    image_button.click(flip_image, inputs=[project_name, operate], outputs=image_output)\n",
    "\n",
    "demo.launch(share=True)\n"
   ],
   "metadata": {
    "collapsed": false,
    "ExecuteTime": {
     "end_time": "2024-08-24T10:16:19.135901Z",
     "start_time": "2024-08-24T10:16:16.363081Z"
    }
   },
   "id": "189d6c15885c24e9",
   "execution_count": 22
  },
  {
   "cell_type": "code",
   "outputs": [],
   "source": [],
   "metadata": {
    "collapsed": false
   },
   "id": "f8a39a9a1ff94c4e",
   "execution_count": null
  },
  {
   "cell_type": "code",
   "outputs": [],
   "source": [],
   "metadata": {
    "collapsed": false
   },
   "id": "9900e0d0e1bd78ae"
  }
 ],
 "metadata": {
  "kernelspec": {
   "display_name": "Python 3",
   "language": "python",
   "name": "python3"
  },
  "language_info": {
   "codemirror_mode": {
    "name": "ipython",
    "version": 2
   },
   "file_extension": ".py",
   "mimetype": "text/x-python",
   "name": "python",
   "nbconvert_exporter": "python",
   "pygments_lexer": "ipython2",
   "version": "2.7.6"
  }
 },
 "nbformat": 4,
 "nbformat_minor": 5
}
